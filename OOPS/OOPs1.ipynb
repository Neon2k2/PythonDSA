{
 "cells": [
  {
   "cell_type": "markdown",
   "id": "d07e94c7",
   "metadata": {},
   "source": [
    "Object Oriented Programming:\n",
    "\n",
    "Class: It is basically a blueprint of an object, which consists of methods and attributes.\n",
    "for Example: CAR can be a class as it has attributes like how many doors it has, what color it is, does it have sunroof or not, is it sedan or hatchback. It has methods, or basically behavious, like it moves front and reverse right and left, it's windows opening and closing etc\n",
    "\n",
    "Object: It is an instance of a class, as class is just a blueprint stating how an object will be and what will be it behaviours. ex: Ford Gt, it's a specific car with it's own attribute and behaviour but everything which makes it's existence is the that, it is a type of Car.\n",
    "\n",
    "As we know python is a dynamically typed, High level, intrepeted, object oriented language. It makes us easier and efficient to approach a complex problem using object oriented approach.\n"
   ]
  },
  {
   "cell_type": "code",
   "execution_count": null,
   "id": "d1b23cf4",
   "metadata": {},
   "outputs": [],
   "source": [
    "class ExpenseTracker:\n",
    "    \"\"\"this is a class to do expense tracking\"\"\"\n",
    "    \n",
    "    def __init__(self, date, description, transaction_type, amount):\n",
    "        self.date = date\n",
    "        self.description = description\n",
    "        self.transaction_type = transaction_type\n",
    "        self.amount = amount\n"
   ]
  },
  {
   "cell_type": "code",
   "execution_count": null,
   "id": "2cecf177",
   "metadata": {},
   "outputs": [],
   "source": [
    "obj1 = ExpenseTracker('23-02-2023', 'petrol', 'debit', '500')\n",
    "obj2 = ExpenseTracker('23-02-2023', 'food', 'debit', '500')\n",
    "obj1.amount"
   ]
  },
  {
   "cell_type": "code",
   "execution_count": null,
   "id": "ec902189",
   "metadata": {},
   "outputs": [],
   "source": []
  }
 ],
 "metadata": {
  "kernelspec": {
   "display_name": "Python 3 (ipykernel)",
   "language": "python",
   "name": "python3"
  },
  "language_info": {
   "codemirror_mode": {
    "name": "ipython",
    "version": 3
   },
   "file_extension": ".py",
   "mimetype": "text/x-python",
   "name": "python",
   "nbconvert_exporter": "python",
   "pygments_lexer": "ipython3",
   "version": "3.9.12"
  }
 },
 "nbformat": 4,
 "nbformat_minor": 5
}
