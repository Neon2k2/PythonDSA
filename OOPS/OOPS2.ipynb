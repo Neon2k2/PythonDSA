{
 "cells": [
  {
   "cell_type": "markdown",
   "id": "d4f76722",
   "metadata": {},
   "source": [
    "Inheritance:\n",
    "\n",
    "A class inheriting attributes and methods of some other class, is called inheritance.\n",
    "\n",
    "Now this can we either, multilevel inheritance, multiple class inheritance."
   ]
  },
  {
   "cell_type": "code",
   "execution_count": null,
   "id": "e6f4ed17",
   "metadata": {},
   "outputs": [],
   "source": [
    "class Vehicle():\n",
    "    def __init__(self, make, model, fuel):\n",
    "        self.make = make\n",
    "        self.model = model\n",
    "        self.fuel = fuel\n",
    "        "
   ]
  },
  {
   "cell_type": "code",
   "execution_count": null,
   "id": "c07d6a6a",
   "metadata": {},
   "outputs": [],
   "source": [
    "class Car(Vehicle):\n",
    "    def __init__(self, make, model, fuel, air_conditioning, sunroof):\n",
    "#         parent attributes\n",
    "        Vehicle.make = make\n",
    "        Vehicle.model = model\n",
    "        Vehicle.fuel = fuel\n",
    "        \n",
    "        self.air_conditioning = air_conditioning\n",
    "        self.sunroof = sunroof\n",
    "        \n",
    "    def show_parent_attribute(self):\n",
    "        print(Vehicle.make, \"\", Vehicle.model, \" \", Vehicle.fuel)"
   ]
  },
  {
   "cell_type": "code",
   "execution_count": null,
   "id": "9b557f50",
   "metadata": {},
   "outputs": [],
   "source": [
    "myobj = Car(\"tata\", 2019, \"Electric\", True, True)"
   ]
  },
  {
   "cell_type": "code",
   "execution_count": null,
   "id": "d518a1c2",
   "metadata": {},
   "outputs": [],
   "source": [
    "myobj.show_parent_attribute()\n"
   ]
  },
  {
   "cell_type": "markdown",
   "id": "049d1c04",
   "metadata": {},
   "source": [
    "Polymorphism: Means many form. In programming, polymorphism means the same function name\n",
    "    (but different signatures) being used for different types. \n",
    "    The key difference is the data types and number of arguments used in function.\n",
    "    \n"
   ]
  },
  {
   "cell_type": "code",
   "execution_count": null,
   "id": "6e5c4b17",
   "metadata": {},
   "outputs": [],
   "source": [
    "class India():\n",
    "    def capital(self):\n",
    "        print(\"New Delhi is the capital of India.\")\n",
    "\n",
    "    def language(self):\n",
    "        print(\"Hindi is the most widely spoken language of India.\")\n",
    "\n",
    "    def type(self):\n",
    "        print(\"India is a developing country.\")\n",
    "\n",
    "class USA():\n",
    "    def capital(self):\n",
    "        print(\"Washington, D.C. is the capital of USA.\")\n",
    "\n",
    "    def language(self):\n",
    "        print(\"English is the primary language of USA.\")\n",
    "\n",
    "    def type(self):\n",
    "        print(\"USA is a developed country.\")\n",
    "\n",
    "obj_ind = India()\n",
    "obj_usa = USA()\n",
    "for country in (obj_ind, obj_usa):\n",
    "    country.capital()\n",
    "    country.language()\n",
    "    country.type()\n"
   ]
  },
  {
   "cell_type": "markdown",
   "id": "8550c46e",
   "metadata": {},
   "source": [
    "Method overloading: It is programming techinque where, the name of the method remain same, but the paremeters differ, in type as well as in numbers. But method overloading in python is not supported, as it uses the latest defined method.\n",
    "\n",
    "So traditonally we cannot do it efficiently but we can use a decorator called as Multiple Dispatch Decorator.\n",
    "\n",
    "run below code\n",
    "    "
   ]
  },
  {
   "cell_type": "code",
   "execution_count": null,
   "id": "23c26143",
   "metadata": {},
   "outputs": [],
   "source": [
    "pip3 install multipledispatch"
   ]
  },
  {
   "cell_type": "code",
   "execution_count": null,
   "id": "d98b055f",
   "metadata": {},
   "outputs": [],
   "source": [
    "from multipledispatch import dispatch\n",
    "\n",
    "@dispatch(int, int)\n",
    "def multiply(x, y):\n",
    "    result = x * y\n",
    "    print(result)\n",
    "\n",
    "@dispatch(int, int, int)\n",
    "def multiply(x, y, z):\n",
    "    result = x * y * z\n",
    "    print(result)\n",
    "\n",
    "@dispatch(float, float, float)\n",
    "def multiply(x, y, z):\n",
    "    result = x * y * z\n",
    "    print(result)\n",
    "    \n",
    "# Example function calls\n",
    "multiply(2, 3)  # Output: 6\n",
    "multiply(2, 3, 4)  # Output: 24\n",
    "multiply(2.5, 3.5, 4.5)  # Output: 39.375\n"
   ]
  },
  {
   "cell_type": "markdown",
   "id": "6a02d1b9",
   "metadata": {},
   "source": [
    "Method overriding: It is technique in which funcationality of the method is modified during the inheritance.\n"
   ]
  },
  {
   "cell_type": "code",
   "execution_count": null,
   "id": "eab17695",
   "metadata": {},
   "outputs": [],
   "source": [
    "class Animal:\n",
    "    def speak(self):\n",
    "        raise NotImplementedError(\"Subclass must implement this method\")\n",
    "\n",
    "class Dog(Animal):\n",
    "    def speak(self):\n",
    "        return \"Woof!\"\n",
    "\n",
    "class Cat(Animal):\n",
    "    def speak(self):\n",
    "        return \"Meow!\"\n",
    "\n",
    "# Create a list of Animal objects\n",
    "animals = [Dog(), Cat()]\n",
    "\n",
    "# Call the speak method on each object\n",
    "for animal in animals:\n",
    "    print(animal.speak())\n"
   ]
  },
  {
   "cell_type": "markdown",
   "id": "a5e6578e",
   "metadata": {},
   "source": [
    "Access modifiers: It is used to restrict the accessibility of a method or an attribute on different level.\n",
    "    \n",
    "There are three type of access modifier just like any other oops programming language.\n",
    "\n",
    "public: the attributes and methods declared by the public modifier if accessible from any part of the program.\n",
    "protected: they are accessible only if they are inherited from their respective class.\n",
    "    use _ to declare protected attributes.\n",
    "private: they are accessible only within their respective class.\n",
    "    use __ to declare private attributes.\n"
   ]
  },
  {
   "cell_type": "code",
   "execution_count": null,
   "id": "213c009b",
   "metadata": {},
   "outputs": [],
   "source": [
    "class Super:\n",
    "    var1 = None\n",
    "    _var2 = None\n",
    "    __var3 = None\n",
    "    \n",
    "#     constructor\n",
    "    def __init__(self, var1, var2, var3):\n",
    "        self.var1 = var1\n",
    "        self._var2 = var2\n",
    "        self.__var3 = var3\n",
    "#     public member\n",
    "    def displayPublicMembers(self):\n",
    "        print(\"Public Data Member:\", self.var1)\n",
    "#      protected member\n",
    "    def _displayProtectedMembers(self):\n",
    "        print(\"Protected Data Member:\", self._var2)\n",
    "#         Private member\n",
    "    def __diplayPrivateMembers(self):\n",
    "        print(\"Private Data Member:\", self.__var3)\n",
    "# accessing the private member        \n",
    "    def accessPrivateMembers(self):\n",
    "        self.__displayPrivateMembers()\n",
    "        \n",
    "        \n",
    "# child class\n",
    "\n",
    "class Sub(Super):\n",
    "    \n",
    "    def __init__(self, var1, var2, var3):\n",
    "        Super.__init__(self, var1, var2, var3)\n",
    "        \n",
    "#     public member function\n",
    "    def accessProtectedMembers(self):\n",
    "        self._displayProtectedMembers()\n",
    "\n",
    "\n"
   ]
  },
  {
   "cell_type": "code",
   "execution_count": null,
   "id": "9e1929ff",
   "metadata": {},
   "outputs": [],
   "source": [
    "# creating objects of the derived class\n",
    "\n",
    "obj = Sub(\"GEeks\", 4, \"Geeks !\")"
   ]
  },
  {
   "cell_type": "code",
   "execution_count": null,
   "id": "b529cb7e",
   "metadata": {},
   "outputs": [],
   "source": [
    "obj.displayPublicMembers()"
   ]
  },
  {
   "cell_type": "code",
   "execution_count": null,
   "id": "78d6e1c8",
   "metadata": {},
   "outputs": [],
   "source": [
    "obj.accessProtectedMembers()"
   ]
  },
  {
   "cell_type": "code",
   "execution_count": null,
   "id": "c58723f5",
   "metadata": {},
   "outputs": [],
   "source": [
    "obj.accessPrivateMembers()"
   ]
  },
  {
   "cell_type": "code",
   "execution_count": null,
   "id": "5303ed67",
   "metadata": {},
   "outputs": [],
   "source": [
    "print(\"Object is accessing protected member:\", obj._var2)"
   ]
  },
  {
   "cell_type": "markdown",
   "id": "b0037d55",
   "metadata": {},
   "source": [
    "OBJECT CLASS:\n",
    "\n",
    "Every class in python inherits from object class. By default, object class provides three methods, \n",
    "1: __new__\n",
    "2: __init__\n",
    "3: __str__\n",
    "\n",
    "Now __init__ method is basically used to mandate initial values when the class is used to create an object.\n",
    "we also known it has contructor. which takes self, paremeter, along with different parameters. Now just for revision, self, is used to bind the attributes and methods of the class, to the objects beings created using it.\n",
    "\n",
    "Then __str__ method is used to change the decription of the class rather than receiving object address and type.\n",
    "we can use it in below manner:"
   ]
  },
  {
   "cell_type": "code",
   "execution_count": null,
   "id": "e616d34d",
   "metadata": {},
   "outputs": [],
   "source": [
    "class Cirlce(object):\n",
    "    \n",
    "    def __init__(self, radius):\n",
    "        self.__radius = radius\n",
    "    \n",
    "    def __str__(self):\n",
    "        return \"This is a circle class which takes radius as an argument\"\n"
   ]
  },
  {
   "cell_type": "code",
   "execution_count": null,
   "id": "8f48c3db",
   "metadata": {},
   "outputs": [],
   "source": [
    "c = Circle(3)"
   ]
  },
  {
   "cell_type": "code",
   "execution_count": null,
   "id": "2028ceaa",
   "metadata": {},
   "outputs": [],
   "source": [
    "print(c)"
   ]
  },
  {
   "cell_type": "markdown",
   "id": "669d4edf",
   "metadata": {},
   "source": [
    "Multilevel inheritence:"
   ]
  },
  {
   "cell_type": "code",
   "execution_count": null,
   "id": "3e346ca1",
   "metadata": {},
   "outputs": [],
   "source": [
    "#Parent class\n",
    "class Vehicle():\n",
    "    def __init__(self,make,model,fuel):\n",
    "        self.make=make\n",
    "        self.model=model\n",
    "        self.fuel=fuel\n",
    "        \n",
    "#Child Class\n",
    "class Car(Vehicle):\n",
    "    def __init__(self,make,model,fuel,air_conditioning,sunroof):\n",
    "        super(Car,self).__init__(make,model,fuel)\n",
    "        self.air_conditioning=air_conditioning\n",
    "        self._sunroof=sunroof\n",
    "class ElectricVehcile(Car):\n",
    "    def __init__(self,make,model,fuel,air_conditioning,sunroof,distance):\n",
    "        super(ElectricVehcile,self).__init__(make,model,fuel,air_conditioning,sunroof)\n",
    "        self.distance=distance\n",
    "\n",
    "myobj=ElectricVehcile(\"tesla\",2019,\"Electric\",True,True,500)\n",
    "\n",
    "myobj.__dict__"
   ]
  },
  {
   "cell_type": "markdown",
   "id": "5472005c",
   "metadata": {},
   "source": [
    "METHOD RESOLUTION ORDER:  It denotes the way a programming language resolves a method or attribute. Python supports classes inheriting from other classes. The class being inherited is called the Parent or Superclass, while the class that inherits is called the Child or Subclass. In python, method resolution order defines the order in which the base classes are searched when executing a method. First, the method or attribute is searched within a class and then it follows the order we specified while inheriting. This order is also called Linearization of a class and set of rules are called MRO(Method Resolution Order)."
   ]
  },
  {
   "cell_type": "code",
   "execution_count": 1,
   "id": "a2a6130d",
   "metadata": {},
   "outputs": [],
   "source": [
    "class Car():\n",
    "    def __init__(self,make,model,fuel):\n",
    "        self.make=make\n",
    "        self.model=model\n",
    "        self.fuel=fuel\n",
    "    def get_car_detail(self):\n",
    "        return \"the make of the car is\", self.make,\"from car class\"\n",
    "    \n",
    "class ElectricCar():\n",
    "    def __init__(self,make,model,fuel):\n",
    "        self.make=make\n",
    "        self.model=model\n",
    "        self.fuel=fuel\n",
    "        \n",
    "    def get_car_detail(self):\n",
    "        return \"the make of the car is\",self.make,\"from Electric Car class\"\n",
    "\n",
    "class Taxi(ElectricCar,Car):#Multiple Inheritance\n",
    "    def __init__(self,make,model,fuel):\n",
    "        super().__init__(make,model,fuel)\n",
    "\n"
   ]
  },
  {
   "cell_type": "code",
   "execution_count": 2,
   "id": "4de30754",
   "metadata": {},
   "outputs": [],
   "source": [
    "myobj=Taxi(\"Tesla\",2019,\"electric\")"
   ]
  },
  {
   "cell_type": "code",
   "execution_count": 3,
   "id": "d1942de3",
   "metadata": {},
   "outputs": [
    {
     "data": {
      "text/plain": [
       "('the make of the car is', 'Tesla', 'from Electric Car class')"
      ]
     },
     "execution_count": 3,
     "metadata": {},
     "output_type": "execute_result"
    }
   ],
   "source": [
    "myobj.get_car_detail()\n"
   ]
  },
  {
   "cell_type": "code",
   "execution_count": 4,
   "id": "4809cd68",
   "metadata": {},
   "outputs": [
    {
     "data": {
      "text/plain": [
       "(__main__.Taxi, __main__.ElectricCar, __main__.Car, object)"
      ]
     },
     "execution_count": 4,
     "metadata": {},
     "output_type": "execute_result"
    }
   ],
   "source": [
    "Taxi.__mro__"
   ]
  },
  {
   "cell_type": "code",
   "execution_count": 5,
   "id": "72f0dbae",
   "metadata": {},
   "outputs": [
    {
     "data": {
      "text/plain": [
       "[__main__.Taxi, __main__.ElectricCar, __main__.Car, object]"
      ]
     },
     "execution_count": 5,
     "metadata": {},
     "output_type": "execute_result"
    }
   ],
   "source": [
    "Taxi.mro()"
   ]
  },
  {
   "cell_type": "markdown",
   "id": "b464414c",
   "metadata": {},
   "source": [
    "magic method:"
   ]
  },
  {
   "cell_type": "code",
   "execution_count": 13,
   "id": "a5698e28",
   "metadata": {},
   "outputs": [],
   "source": [
    "class vehicle:\n",
    "    def __init__(self, make, model, fare):\n",
    "        self.make = make\n",
    "        self.model = model\n",
    "        self.fare = fare\n",
    "    def __str__(self):\n",
    "        return \" The make of the car is {}and the model is of {} with a fare of {} R/M\".format(self.make, self.model, self.fare)\n",
    "    \n",
    "    def __add__(self, other):\n",
    "        return self.fare + other.fare\n",
    "    \n",
    "    def __sub__(self, other):\n",
    "        return self.fare - other.fare\n",
    "    "
   ]
  },
  {
   "cell_type": "code",
   "execution_count": 15,
   "id": "8040e3c8",
   "metadata": {},
   "outputs": [],
   "source": [
    "myob1 = vehicle(\"Tesla\", 2019, 40)"
   ]
  },
  {
   "cell_type": "code",
   "execution_count": 16,
   "id": "b41c4aa7",
   "metadata": {},
   "outputs": [],
   "source": [
    "myob2 = vehicle(\"Fore\", 2019, 80)"
   ]
  },
  {
   "cell_type": "code",
   "execution_count": 11,
   "id": "aaa58fcb",
   "metadata": {},
   "outputs": [
    {
     "name": "stdout",
     "output_type": "stream",
     "text": [
      " The make of the car is Foreand the model is of 2019 with a fare of 80 R/M\n"
     ]
    }
   ],
   "source": [
    "print(myob2)"
   ]
  },
  {
   "cell_type": "code",
   "execution_count": 21,
   "id": "93d528dd",
   "metadata": {},
   "outputs": [
    {
     "data": {
      "text/plain": [
       "40"
      ]
     },
     "execution_count": 21,
     "metadata": {},
     "output_type": "execute_result"
    }
   ],
   "source": [
    "myob2 - myob1 "
   ]
  }
 ],
 "metadata": {
  "kernelspec": {
   "display_name": "Python 3 (ipykernel)",
   "language": "python",
   "name": "python3"
  },
  "language_info": {
   "codemirror_mode": {
    "name": "ipython",
    "version": 3
   },
   "file_extension": ".py",
   "mimetype": "text/x-python",
   "name": "python",
   "nbconvert_exporter": "python",
   "pygments_lexer": "ipython3",
   "version": "3.10.6"
  }
 },
 "nbformat": 4,
 "nbformat_minor": 5
}
