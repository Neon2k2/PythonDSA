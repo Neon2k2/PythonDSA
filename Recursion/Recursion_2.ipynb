{
 "cells": [
  {
   "cell_type": "markdown",
   "id": "3c1d52f4",
   "metadata": {},
   "source": [
    "Recursion with Strings"
   ]
  },
  {
   "cell_type": "markdown",
   "id": "cd4b8f00",
   "metadata": {},
   "source": [
    "Let's assume we have string on l length. And we want to replace all the occurence of 'a' with 'b'.\n",
    "\n",
    "base case: l = 0 do nothing just return the string\n",
    "assumption: we assume that for all l-1 string it is true.\n",
    "\n",
    "\n",
    "we are bascially gonna assume that except first element evey occurence of 'a' has already been replaced by the 'b'.\n",
    "\n"
   ]
  },
  {
   "cell_type": "code",
   "execution_count": null,
   "id": "dd15ce49",
   "metadata": {},
   "outputs": [],
   "source": [
    "def replaceChar(string, a, b):\n",
    "    if len(string) == 0:\n",
    "        return string\n",
    "    subString = replaceChar(string[1:], a,b)\n",
    "    if string[0] == a:\n",
    "        return b + subString\n",
    "    else:\n",
    "        return string[0] + subString\n",
    "    \n",
    "s = 'asfgrwegetwetcvdaaadaadsfaaga'\n",
    "\n",
    "T = replaceChar(s, 'a', 'G')\n",
    "print(T)\n",
    "    "
   ]
  },
  {
   "cell_type": "markdown",
   "id": "b975b2e0",
   "metadata": {},
   "source": [
    "Given a string, Compute recursively a new string where all 'x' chars have been removed.\n",
    "\n",
    "input: String S\n",
    "output: Modified String\n",
    "\n",
    "So to solve this problem:\n",
    "1: len == 0 or len == 1 : return the string\n",
    "2: Now run the function on the string[1:] part\n",
    "3: if a[0] is equal to 'x' then just return the output of function(string[1:]) : return the a[0] + function(string[1:])\n"
   ]
  },
  {
   "cell_type": "code",
   "execution_count": null,
   "id": "4146209a",
   "metadata": {},
   "outputs": [],
   "source": [
    "def removeX(string):\n",
    "    l = len(string)\n",
    "    if l == 0:\n",
    "        return string\n",
    "    subString = removeX(string[1:])\n",
    "    if string[0] == 'x':\n",
    "        return subString\n",
    "    else:\n",
    "        return string[0] + subString\n",
    "    \n",
    "x = input()\n",
    "print(removeX(x))\n",
    "        "
   ]
  },
  {
   "cell_type": "markdown",
   "id": "9c92115c",
   "metadata": {},
   "source": [
    "Removing all the occurence of 'pi' in the given string\n",
    "\n",
    "1: if len(string) < 2: then we have return the string\n",
    "2: check if string[0] == 'p' and string[1] == 'i': \n",
    "   check for string[2:] else return string[0] + check for string[1:]\n",
    "   "
   ]
  },
  {
   "cell_type": "code",
   "execution_count": 2,
   "id": "7dd7a6b0",
   "metadata": {},
   "outputs": [
    {
     "name": "stdout",
     "output_type": "stream",
     "text": [
      "3.14qw3.14qwqw3.14dsf3.143.14i\n"
     ]
    }
   ],
   "source": [
    "def removePi(s):\n",
    "    s = s.lower()\n",
    "    l = len(s)\n",
    "    if l < 2:\n",
    "        return s\n",
    "    if s[0] == 'p' or s[1] == 'i':\n",
    "        return '3.14' + removePi(s[2:])\n",
    "    else:\n",
    "        return s[0] + removePi(s[1:])\n",
    "    \n",
    "x = 'piqwpiqwqwpidsfgippi'\n",
    "print(removePi(x))"
   ]
  },
  {
   "cell_type": "markdown",
   "id": "447c690d",
   "metadata": {},
   "source": [
    "Given a string S, remove consecutive duplicates from it recursively.\n",
    "Input Format :\n",
    "String S\n",
    "Output Format :\n",
    "Output string\n",
    "Constraints :\n",
    "1 <= |S| <= 10^3\n",
    "where |S| represents the length of string\n"
   ]
  },
  {
   "cell_type": "code",
   "execution_count": 4,
   "id": "e8a3f034",
   "metadata": {},
   "outputs": [
    {
     "name": "stdout",
     "output_type": "stream",
     "text": [
      "sgdeusgegrhrgsdfsdfgfsfsdgsrs\n"
     ]
    }
   ],
   "source": [
    "def removeConsec(s):\n",
    "    s = s.lower()\n",
    "    l = len(s)\n",
    "    if l < 2:\n",
    "        return s\n",
    "    if s[0] == s[1]:\n",
    "        return removeConsec(s[1:])\n",
    "    else:\n",
    "        return s[0] + removeConsec(s[1:])\n",
    "    \n",
    "x = 'ssgdddeeuussggeeeggrhrggsdfsdfgfssfsdgsrssssss'\n",
    "print(removeConsec(x))\n",
    "    "
   ]
  },
  {
   "cell_type": "markdown",
   "id": "de0da7a2",
   "metadata": {},
   "source": [
    "Binary search using Recursion:\n"
   ]
  },
  {
   "cell_type": "code",
   "execution_count": 12,
   "id": "587e37ad",
   "metadata": {},
   "outputs": [
    {
     "name": "stdout",
     "output_type": "stream",
     "text": [
      "9\n"
     ]
    }
   ],
   "source": [
    "def binarySearch(a, x, si, ei):\n",
    "    if si > ei:\n",
    "        return -1\n",
    "    mid = (si  + ei)//2\n",
    "    if a[mid] == x:\n",
    "        return mid\n",
    "    elif a[mid] > x:\n",
    "        return binarySearch(a,x, si, mid -1)\n",
    "    else:\n",
    "        return binarySearch(a, x, mid + 1, ei)\n",
    "    \n",
    "l = [1,2,3,4,5,6,7,8,8,9, 10, 22, 32]\n",
    "print(binarySearch(l,9,0,13))"
   ]
  },
  {
   "cell_type": "markdown",
   "id": "561b3263",
   "metadata": {},
   "source": [
    "Merge Sort:\n",
    "\n",
    "Here is a step-by-step explanation of the implementation of the mergeSort function:\n",
    "\n",
    "1.The function is defined to take three arguments: the array to be sorted, the starting index of the subarray to be sorted, and the ending index of the subarray to be sorted.\n",
    "\n",
    "2.The function first checks if the subarray to be sorted has a size greater than 1, which is the base case for the recursive implementation of merge sort. If the size is less than or equal to 1, the subarray is already sorted and the function returns without doing anything.\n",
    "\n",
    "3.If the size of the subarray is greater than 1, the function calculates the midpoint of the subarray and calls itself recursively on the left and right halves of the subarray.\n",
    "\n",
    "4.After the recursive calls, the function calls the merge function to merge the two sorted subarrays.\n",
    "\n",
    "5.The merge function takes four arguments: the array to be merged, the starting index of the left subarray, the ending index of the left subarray (which is also the starting index of the right subarray), and the ending index of the right subarray.\n",
    "\n",
    "6.The function creates two temporary arrays, 'left' and 'right', to hold the left and right subarrays of the array to be merged.\n",
    "\n",
    "7.The function appends 'inf' to the end of both the left and right subarrays to act as a sentinel value to mark the end of the subarray.\n",
    "\n",
    "8.The function initializes two variables 'i' and 'j' to 0, which will be used as pointers to the first element of the left and right subarrays respectively.\n",
    "\n",
    "9.The function then iterates over the indices of the subarray to be merged, starting from the starting index of the left subarray, up to the ending index of the right subarray.\n",
    "\n",
    "10.At each iteration, the function compares the element pointed to by 'i' in the left subarray and the element pointed to by 'j' in the right subarray. If the element in the left subarray is smaller than or equal to the element in the right subarray, the function copies the element in the left subarray to the next position in the merged array and increments 'i'. If the element in the right subarray is smaller, the function copies the element in the right subarray to the next position in the merged array and increments 'j'.\n",
    "\n",
    "11.The function continues to compare elements and copy them to the merged array until one of the subarrays has been completely copied.\n",
    "\n",
    "12.Once one of the subarrays has been exhausted, the remaining elements in the other subarray are copied to the merged array.\n",
    "\n",
    "13.Finally, the merged array is a sorted version of the original subarray, and the mergeSort function returns this sorted subarray."
   ]
  },
  {
   "cell_type": "code",
   "execution_count": 3,
   "id": "34e6886e",
   "metadata": {},
   "outputs": [
    {
     "name": "stdout",
     "output_type": "stream",
     "text": [
      "6 \n",
      "2 6 8 5 4 3\n",
      "2 3 4 5 6 8\n"
     ]
    }
   ],
   "source": [
    "def mergeSort(arr, start, end):\n",
    "    if end - start > 1:\n",
    "        mid = (start + end) // 2\n",
    "        mergeSort(arr, start, mid)\n",
    "        mergeSort(arr, mid, end)\n",
    "        merge(arr, start, mid, end)\n",
    "\n",
    "\n",
    "def merge(arr, start, mid, end):\n",
    "    left = arr[start:mid]\n",
    "    right = arr[mid:end]\n",
    "    left.append(float('inf'))\n",
    "    right.append(float('inf'))\n",
    "    i = j = 0\n",
    "    for k in range(start, end):\n",
    "        if left[i] <= right[j]:\n",
    "            arr[k] = left[i]\n",
    "            i += 1\n",
    "        else:\n",
    "            arr[k] = right[j]\n",
    "            j += 1\n",
    "# Main\n",
    "n=int(input())\n",
    "arr=list(int(i) for i in input().strip().split(' '))\n",
    "mergeSort(arr, 0, n)\n",
    "print(*arr)\n"
   ]
  }
 ],
 "metadata": {
  "kernelspec": {
   "display_name": "Python 3 (ipykernel)",
   "language": "python",
   "name": "python3"
  },
  "language_info": {
   "codemirror_mode": {
    "name": "ipython",
    "version": 3
   },
   "file_extension": ".py",
   "mimetype": "text/x-python",
   "name": "python",
   "nbconvert_exporter": "python",
   "pygments_lexer": "ipython3",
   "version": "3.9.12"
  }
 },
 "nbformat": 4,
 "nbformat_minor": 5
}
