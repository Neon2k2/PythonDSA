{
 "cells": [
  {
   "cell_type": "markdown",
   "id": "d4f76722",
   "metadata": {},
   "source": [
    "Inheritance:\n",
    "\n",
    "A class inheriting attributes and methods of some other class, is called inheritance.\n",
    "\n",
    "Now this can we either, multilevel inheritance, multiple class inheritance."
   ]
  },
  {
   "cell_type": "code",
   "execution_count": null,
   "id": "e6f4ed17",
   "metadata": {},
   "outputs": [],
   "source": [
    "class Vehicle():\n",
    "    def __init__(self, make, model, fuel):\n",
    "        self.make = make\n",
    "        self.model = model\n",
    "        self.fuel = fuel\n",
    "        "
   ]
  },
  {
   "cell_type": "code",
   "execution_count": null,
   "id": "c07d6a6a",
   "metadata": {},
   "outputs": [],
   "source": [
    "class Car(Vehicle):\n",
    "    def __init__(self, make, model, fuel, air_conditioning, sunroof):\n",
    "#         parent attributes\n",
    "        Vehicle.make = make\n",
    "        Vehicle.model = model\n",
    "        Vehicle.fuel = fuel\n",
    "        \n",
    "        self.air_conditioning = air_conditioning\n",
    "        self.sunroof = sunroof\n",
    "        \n",
    "    def show_parent_attribute(self):\n",
    "        print(Vehicle.make, \"\", Vehicle.model, \" \", Vehicle.fuel)"
   ]
  },
  {
   "cell_type": "code",
   "execution_count": null,
   "id": "9b557f50",
   "metadata": {},
   "outputs": [],
   "source": [
    "myobj = Car(\"tata\", 2019, \"Electric\", True, True)"
   ]
  },
  {
   "cell_type": "code",
   "execution_count": null,
   "id": "8141db0d",
   "metadata": {},
   "outputs": [],
   "source": [
    "myobj.show_parent_attribute()\n"
   ]
  },
  {
   "cell_type": "markdown",
   "id": "9463e816",
   "metadata": {},
   "source": [
    "Polymorphism: Means many form. In programming, polymorphism means the same function name\n",
    "    (but different signatures) being used for different types. \n",
    "    The key difference is the data types and number of arguments used in function.\n",
    "    \n"
   ]
  },
  {
   "cell_type": "code",
   "execution_count": null,
   "id": "3404e7ee",
   "metadata": {},
   "outputs": [],
   "source": [
    "class India():\n",
    "    def capital(self):\n",
    "        print(\"New Delhi is the capital of India.\")\n",
    "\n",
    "    def language(self):\n",
    "        print(\"Hindi is the most widely spoken language of India.\")\n",
    "\n",
    "    def type(self):\n",
    "        print(\"India is a developing country.\")\n",
    "\n",
    "class USA():\n",
    "    def capital(self):\n",
    "        print(\"Washington, D.C. is the capital of USA.\")\n",
    "\n",
    "    def language(self):\n",
    "        print(\"English is the primary language of USA.\")\n",
    "\n",
    "    def type(self):\n",
    "        print(\"USA is a developed country.\")\n",
    "\n",
    "obj_ind = India()\n",
    "obj_usa = USA()\n",
    "for country in (obj_ind, obj_usa):\n",
    "    country.capital()\n",
    "    country.language()\n",
    "    country.type()\n"
   ]
  },
  {
   "cell_type": "markdown",
   "id": "ab733759",
   "metadata": {},
   "source": [
    "Method overloading: It is programming techinque where, the name of the method remain same, but the paremeters differ, in type as well as in numbers. But method overloading in python is not supported, as it uses the latest defined method.\n",
    "\n",
    "So traditonally we cannot do it efficiently but we can use a decorator called as Multiple Dispatch Decorator.\n",
    "\n",
    "run below code\n",
    "    "
   ]
  },
  {
   "cell_type": "code",
   "execution_count": null,
   "id": "9e0c1148",
   "metadata": {},
   "outputs": [],
   "source": [
    "pip3 install multipledispatch"
   ]
  },
  {
   "cell_type": "code",
   "execution_count": null,
   "id": "436553c2",
   "metadata": {},
   "outputs": [],
   "source": [
    "from multipledispatch import dispatch\n",
    "\n",
    "@dispatch(int, int)\n",
    "def multiply(x, y):\n",
    "    result = x * y\n",
    "    print(result)\n",
    "\n",
    "@dispatch(int, int, int)\n",
    "def multiply(x, y, z):\n",
    "    result = x * y * z\n",
    "    print(result)\n",
    "\n",
    "@dispatch(float, float, float)\n",
    "def multiply(x, y, z):\n",
    "    result = x * y * z\n",
    "    print(result)\n",
    "    \n",
    "# Example function calls\n",
    "multiply(2, 3)  # Output: 6\n",
    "multiply(2, 3, 4)  # Output: 24\n",
    "multiply(2.5, 3.5, 4.5)  # Output: 39.375\n"
   ]
  },
  {
   "cell_type": "markdown",
   "id": "0e626d86",
   "metadata": {},
   "source": [
    "Method overriding: It is technique in which funcationality of the method is modified during the inheritance.\n"
   ]
  },
  {
   "cell_type": "code",
   "execution_count": null,
   "id": "6faecd58",
   "metadata": {},
   "outputs": [],
   "source": [
    "class Animal:\n",
    "    def speak(self):\n",
    "        raise NotImplementedError(\"Subclass must implement this method\")\n",
    "\n",
    "class Dog(Animal):\n",
    "    def speak(self):\n",
    "        return \"Woof!\"\n",
    "\n",
    "class Cat(Animal):\n",
    "    def speak(self):\n",
    "        return \"Meow!\"\n",
    "\n",
    "# Create a list of Animal objects\n",
    "animals = [Dog(), Cat()]\n",
    "\n",
    "# Call the speak method on each object\n",
    "for animal in animals:\n",
    "    print(animal.speak())\n"
   ]
  },
  {
   "cell_type": "markdown",
   "id": "3c0990e6",
   "metadata": {},
   "source": [
    "Access modifiers: It is used to restrict the accessibility of a method or an attribute on different level.\n",
    "    \n",
    "There are three type of access modifier just like any other oops programming language.\n",
    "\n",
    "public: the attributes and methods declared by the public modifier if accessible from any part of the program.\n",
    "protected: they are accessible only if they are inherited from their respective class.\n",
    "    use _ to declare protected attributes.\n",
    "private: they are accessible only within their respective class.\n",
    "    use __ to declare private attributes.\n"
   ]
  },
  {
   "cell_type": "code",
   "execution_count": null,
   "id": "8415bcd5",
   "metadata": {},
   "outputs": [],
   "source": [
    "class Super:\n",
    "    var1 = None\n",
    "    _var2 = None\n",
    "    __var3 = None\n",
    "    \n",
    "#     constructor\n",
    "    def __init__(self, var1, var2, var3):\n",
    "        self.var1 = var1\n",
    "        self._var2 = var2\n",
    "        self.__var3 = var3\n",
    "#     public member\n",
    "    def displayPublicMembers(self):\n",
    "        print(\"Public Data Member:\", self.var1)\n",
    "#      protected member\n",
    "    def _displayProtectedMembers(self):\n",
    "        print(\"Protected Data Member:\", self._var2)\n",
    "#         Private member\n",
    "    def __diplayPrivateMembers(self):\n",
    "        print(\"Private Data Member:\", self.__var3)\n",
    "# accessing the private member        \n",
    "    def accessPrivateMembers(self):\n",
    "        self.__displayPrivateMembers()\n",
    "        \n",
    "        \n",
    "# child class\n",
    "\n",
    "class Sub(Super):\n",
    "    \n",
    "    def __init__(self, var1, var2, var3):\n",
    "        Super.__init__(self, var1, var2, var3)\n",
    "        \n",
    "#     public member function\n",
    "    def accessProtectedMembers(self):\n",
    "        self._displayProtectedMembers()\n",
    "\n",
    "\n"
   ]
  },
  {
   "cell_type": "code",
   "execution_count": null,
   "id": "04675d01",
   "metadata": {},
   "outputs": [],
   "source": [
    "# creating objects of the derived class\n",
    "\n",
    "obj = Sub(\"GEeks\", 4, \"Geeks !\")"
   ]
  },
  {
   "cell_type": "code",
   "execution_count": null,
   "id": "076ce7d9",
   "metadata": {},
   "outputs": [],
   "source": [
    "obj.displayPublicMembers()"
   ]
  },
  {
   "cell_type": "code",
   "execution_count": null,
   "id": "a7b9a473",
   "metadata": {},
   "outputs": [],
   "source": [
    "obj.accessProtectedMembers()"
   ]
  },
  {
   "cell_type": "code",
   "execution_count": null,
   "id": "54889ad9",
   "metadata": {},
   "outputs": [],
   "source": [
    "obj.accessPrivateMembers()"
   ]
  },
  {
   "cell_type": "code",
   "execution_count": null,
   "id": "7d8170af",
   "metadata": {},
   "outputs": [],
   "source": [
    "print(\"Object is accessing protected member:\", obj._var2)"
   ]
  },
  {
   "cell_type": "markdown",
   "id": "1fe8c63b",
   "metadata": {},
   "source": [
    "OBJECT CLASS:\n",
    "\n",
    "Every class in python inherits from object class. By default, object class provides three methods, \n",
    "1: __new__\n",
    "2: __init__\n",
    "3: __str__\n",
    "\n",
    "Now __init__ method is basically used to mandate initial values when the class is used to create an object.\n",
    "we also known it has contructor. which takes self, paremeter, along with different parameters. Now just for revision, self, is used to bind the attributes and methods of the class, to the objects beings created using it.\n",
    "\n",
    "Then __str__ method is used to change the decription of the class rather than receiving object address and type.\n",
    "we can use it in below manner:"
   ]
  },
  {
   "cell_type": "code",
   "execution_count": null,
   "id": "c10b07e8",
   "metadata": {},
   "outputs": [],
   "source": [
    "class Cirlce(object):\n",
    "    \n",
    "    def __init__(self, radius):\n",
    "        self.__radius = radius\n",
    "    \n",
    "    def __str__(self):\n",
    "        return \"This is a circle class which takes radius as an argument\"\n"
   ]
  },
  {
   "cell_type": "code",
   "execution_count": null,
   "id": "c971c10a",
   "metadata": {},
   "outputs": [],
   "source": [
    "c = Circle(3)"
   ]
  },
  {
   "cell_type": "code",
   "execution_count": null,
   "id": "02f3b27f",
   "metadata": {},
   "outputs": [],
   "source": [
    "print(c)"
   ]
  }
 ],
 "metadata": {
  "kernelspec": {
   "display_name": "Python 3 (ipykernel)",
   "language": "python",
   "name": "python3"
  },
  "language_info": {
   "codemirror_mode": {
    "name": "ipython",
    "version": 3
   },
   "file_extension": ".py",
   "mimetype": "text/x-python",
   "name": "python",
   "nbconvert_exporter": "python",
   "pygments_lexer": "ipython3",
   "version": "3.10.6"
  }
 },
 "nbformat": 4,
 "nbformat_minor": 5
}
