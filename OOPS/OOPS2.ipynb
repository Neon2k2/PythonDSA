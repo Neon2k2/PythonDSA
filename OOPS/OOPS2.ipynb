{
 "cells": [
  {
   "cell_type": "markdown",
   "id": "d4f76722",
   "metadata": {},
   "source": [
    "Inheritance:\n",
    "\n",
    "A class inheriting attributes and methods of some other class, is called inheritance.\n",
    "\n",
    "Now this can we either, multilevel inheritance, multiple class inheritance."
   ]
  },
  {
   "cell_type": "code",
   "execution_count": null,
   "id": "e6f4ed17",
   "metadata": {},
   "outputs": [],
   "source": [
    "class Vehicle():\n",
    "    def __init__(self, make, model, fuel):\n",
    "        self.make = make\n",
    "        self.model = model\n",
    "        self.fuel = fuel\n",
    "        "
   ]
  },
  {
   "cell_type": "code",
   "execution_count": null,
   "id": "c07d6a6a",
   "metadata": {},
   "outputs": [],
   "source": [
    "class Car(Vehicle):\n",
    "    def __init__(self, make, model, fuel, air_conditioning, sunroof):\n",
    "#         parent attributes\n",
    "        Vehicle.make = make\n",
    "        Vehicle.model = model\n",
    "        Vehicle.fuel = fuel\n",
    "        \n",
    "        self.air_conditioning = air_conditioning\n",
    "        self.sunroof = sunroof\n",
    "        \n",
    "    def show_parent_attribute(self):\n",
    "        print(Vehicle.make, \"\", Vehicle.model, \" \", Vehicle.fuel)"
   ]
  },
  {
   "cell_type": "code",
   "execution_count": null,
   "id": "9b557f50",
   "metadata": {},
   "outputs": [],
   "source": [
    "myobj = Car(\"tata\", 2019, \"Electric\", True, True)"
   ]
  },
  {
   "cell_type": "code",
   "execution_count": null,
   "id": "d68f091d",
   "metadata": {},
   "outputs": [],
   "source": [
    "myobj.show_parent_attribute()\n"
   ]
  },
  {
   "cell_type": "markdown",
   "id": "bfca20c3",
   "metadata": {},
   "source": [
    "Polymorphism: Means many form. In programming, polymorphism means the same function name\n",
    "    (but different signatures) being used for different types. \n",
    "    The key difference is the data types and number of arguments used in function.\n",
    "    \n"
   ]
  },
  {
   "cell_type": "code",
   "execution_count": null,
   "id": "6b3f100c",
   "metadata": {},
   "outputs": [],
   "source": [
    "class India():\n",
    "    def capital(self):\n",
    "        print(\"New Delhi is the capital of India.\")\n",
    "\n",
    "    def language(self):\n",
    "        print(\"Hindi is the most widely spoken language of India.\")\n",
    "\n",
    "    def type(self):\n",
    "        print(\"India is a developing country.\")\n",
    "\n",
    "class USA():\n",
    "    def capital(self):\n",
    "        print(\"Washington, D.C. is the capital of USA.\")\n",
    "\n",
    "    def language(self):\n",
    "        print(\"English is the primary language of USA.\")\n",
    "\n",
    "    def type(self):\n",
    "        print(\"USA is a developed country.\")\n",
    "\n",
    "obj_ind = India()\n",
    "obj_usa = USA()\n",
    "for country in (obj_ind, obj_usa):\n",
    "    country.capital()\n",
    "    country.language()\n",
    "    country.type()\n"
   ]
  },
  {
   "cell_type": "markdown",
   "id": "3eb1ad71",
   "metadata": {},
   "source": [
    "Method overloading: It is programming techinque where, the name of the method remain same, but the paremeters differ, in type as well as in numbers. But method overloading in python is not supported, as it uses the latest defined method.\n",
    "\n",
    "So traditonally we cannot do it efficiently but we can use a decorator called as Multiple Dispatch Decorator.\n",
    "\n",
    "run below code\n",
    "    "
   ]
  },
  {
   "cell_type": "code",
   "execution_count": null,
   "id": "90b03b5e",
   "metadata": {},
   "outputs": [],
   "source": [
    "pip3 install multipledispatch"
   ]
  },
  {
   "cell_type": "code",
   "execution_count": null,
   "id": "7633361d",
   "metadata": {},
   "outputs": [],
   "source": [
    "from multipledispatch import dispatch\n",
    "\n",
    "@dispatch(int, int)\n",
    "def multiply(x, y):\n",
    "    result = x * y\n",
    "    print(result)\n",
    "\n",
    "@dispatch(int, int, int)\n",
    "def multiply(x, y, z):\n",
    "    result = x * y * z\n",
    "    print(result)\n",
    "\n",
    "@dispatch(float, float, float)\n",
    "def multiply(x, y, z):\n",
    "    result = x * y * z\n",
    "    print(result)\n",
    "    \n",
    "# Example function calls\n",
    "multiply(2, 3)  # Output: 6\n",
    "multiply(2, 3, 4)  # Output: 24\n",
    "multiply(2.5, 3.5, 4.5)  # Output: 39.375\n"
   ]
  },
  {
   "cell_type": "markdown",
   "id": "82a6d550",
   "metadata": {},
   "source": [
    "Method overriding: It is technique in which funcationality of the method is modified during the inheritance.\n"
   ]
  },
  {
   "cell_type": "code",
   "execution_count": null,
   "id": "dfd703a4",
   "metadata": {},
   "outputs": [],
   "source": [
    "class Animal:\n",
    "    def speak(self):\n",
    "        raise NotImplementedError(\"Subclass must implement this method\")\n",
    "\n",
    "class Dog(Animal):\n",
    "    def speak(self):\n",
    "        return \"Woof!\"\n",
    "\n",
    "class Cat(Animal):\n",
    "    def speak(self):\n",
    "        return \"Meow!\"\n",
    "\n",
    "# Create a list of Animal objects\n",
    "animals = [Dog(), Cat()]\n",
    "\n",
    "# Call the speak method on each object\n",
    "for animal in animals:\n",
    "    print(animal.speak())\n"
   ]
  },
  {
   "cell_type": "markdown",
   "id": "43fccc6f",
   "metadata": {},
   "source": [
    "Access modifiers: It is used to restrict the accessibility of a method or an attribute on different level.\n",
    "    \n",
    "There are three type of access modifier just like any other oops programming language.\n",
    "\n",
    "public: the attributes and methods declared by the public modifier if accessible from any part of the program.\n",
    "protected: they are accessible only if they are inherited from their respective class.\n",
    "    use _ to declare protected attributes.\n",
    "private: they are accessible only within their respective class.\n",
    "    use __ to declare private attributes.\n"
   ]
  },
  {
   "cell_type": "code",
   "execution_count": null,
   "id": "a001ba8f",
   "metadata": {},
   "outputs": [],
   "source": [
    "class Super:\n",
    "    var1 = None\n",
    "    _var2 = None\n",
    "    __var3 = None\n",
    "    \n",
    "#     constructor\n",
    "    def __init__(self, var1, var2, var3):\n",
    "        self.var1 = var1\n",
    "        self._var2 = var2\n",
    "        self.__var3 = var3\n",
    "#     public member\n",
    "    def displayPublicMembers(self):\n",
    "        print(\"Public Data Member:\", self.var1)\n",
    "#      protected member\n",
    "    def _displayProtectedMembers(self):\n",
    "        print(\"Protected Data Member:\", self._var2)\n",
    "#         Private member\n",
    "    def __diplayPrivateMembers(self):\n",
    "        print(\"Private Data Member:\", self.__var3)\n",
    "# accessing the private member        \n",
    "    def accessPrivateMembers(self):\n",
    "        self.__displayPrivateMembers()\n",
    "        \n",
    "        \n",
    "# child class\n",
    "\n",
    "class Sub(Super):\n",
    "    \n",
    "    def __init__(self, var1, var2, var3):\n",
    "        Super.__init__(self, var1, var2, var3)\n",
    "        \n",
    "#     public member function\n",
    "    def accessProtectedMembers(self):\n",
    "        self._displayProtectedMembers()\n",
    "\n",
    "\n"
   ]
  },
  {
   "cell_type": "code",
   "execution_count": null,
   "id": "7bb3f361",
   "metadata": {},
   "outputs": [],
   "source": [
    "# creating objects of the derived class\n",
    "\n",
    "obj = Sub(\"GEeks\", 4, \"Geeks !\")"
   ]
  },
  {
   "cell_type": "code",
   "execution_count": null,
   "id": "4ec9216d",
   "metadata": {},
   "outputs": [],
   "source": [
    "obj.displayPublicMembers()"
   ]
  },
  {
   "cell_type": "code",
   "execution_count": null,
   "id": "79199864",
   "metadata": {},
   "outputs": [],
   "source": [
    "obj.accessProtectedMembers()"
   ]
  },
  {
   "cell_type": "code",
   "execution_count": null,
   "id": "52f2cb8c",
   "metadata": {},
   "outputs": [],
   "source": [
    "obj.accessPrivateMembers()"
   ]
  },
  {
   "cell_type": "code",
   "execution_count": null,
   "id": "8e6e7e75",
   "metadata": {},
   "outputs": [],
   "source": [
    "print(\"Object is accessing protected member:\", obj._var2)"
   ]
  },
  {
   "cell_type": "markdown",
   "id": "24437a98",
   "metadata": {},
   "source": [
    "OBJECT CLASS:\n",
    "\n",
    "Every class in python inherits from object class. By default, object class provides three methods, \n",
    "1: __new__\n",
    "2: __init__\n",
    "3: __str__\n",
    "\n",
    "Now __init__ method is basically used to mandate initial values when the class is used to create an object.\n",
    "we also known it has contructor. which takes self, paremeter, along with different parameters. Now just for revision, self, is used to bind the attributes and methods of the class, to the objects beings created using it.\n",
    "\n",
    "Then __str__ method is used to change the decription of the class rather than receiving object address and type.\n",
    "we can use it in below manner:"
   ]
  },
  {
   "cell_type": "code",
   "execution_count": null,
   "id": "d28f55e8",
   "metadata": {},
   "outputs": [],
   "source": [
    "class Cirlce(object):\n",
    "    \n",
    "    def __init__(self, radius):\n",
    "        self.__radius = radius\n",
    "    \n",
    "    def __str__(self):\n",
    "        return \"This is a circle class which takes radius as an argument\"\n"
   ]
  },
  {
   "cell_type": "code",
   "execution_count": null,
   "id": "89850892",
   "metadata": {},
   "outputs": [],
   "source": [
    "c = Circle(3)"
   ]
  },
  {
   "cell_type": "code",
   "execution_count": null,
   "id": "b0ccebf4",
   "metadata": {},
   "outputs": [],
   "source": [
    "print(c)"
   ]
  },
  {
   "cell_type": "markdown",
   "id": "3e9c9e6e",
   "metadata": {},
   "source": [
    "Multilevel inheritence:"
   ]
  },
  {
   "cell_type": "code",
   "execution_count": null,
   "id": "5926a60a",
   "metadata": {},
   "outputs": [],
   "source": [
    "#Parent class\n",
    "class Vehicle():\n",
    "    def __init__(self,make,model,fuel):\n",
    "        self.make=make\n",
    "        self.model=model\n",
    "        self.fuel=fuel\n",
    "        \n",
    "#Child Class\n",
    "class Car(Vehicle):\n",
    "    def __init__(self,make,model,fuel,air_conditioning,sunroof):\n",
    "        super(Car,self).__init__(make,model,fuel)\n",
    "        self.air_conditioning=air_conditioning\n",
    "        self._sunroof=sunroof\n",
    "class ElectricVehcile(Car):\n",
    "    def __init__(self,make,model,fuel,air_conditioning,sunroof,distance):\n",
    "        super(ElectricVehcile,self).__init__(make,model,fuel,air_conditioning,sunroof)\n",
    "        self.distance=distance\n",
    "\n",
    "myobj=ElectricVehcile(\"tesla\",2019,\"Electric\",True,True,500)\n",
    "\n",
    "myobj.__dict__"
   ]
  },
  {
   "cell_type": "code",
   "execution_count": null,
   "id": "27e6f9a3",
   "metadata": {},
   "outputs": [],
   "source": []
  }
 ],
 "metadata": {
  "kernelspec": {
   "display_name": "Python 3 (ipykernel)",
   "language": "python",
   "name": "python3"
  },
  "language_info": {
   "codemirror_mode": {
    "name": "ipython",
    "version": 3
   },
   "file_extension": ".py",
   "mimetype": "text/x-python",
   "name": "python",
   "nbconvert_exporter": "python",
   "pygments_lexer": "ipython3",
   "version": "3.10.6"
  }
 },
 "nbformat": 4,
 "nbformat_minor": 5
}
