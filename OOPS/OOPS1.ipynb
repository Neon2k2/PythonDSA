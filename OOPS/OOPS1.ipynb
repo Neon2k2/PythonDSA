{
 "cells": [
  {
   "cell_type": "markdown",
   "id": "a9236425",
   "metadata": {},
   "source": [
    "Object Oriented Programming:\n",
    "\n",
    "Class: It is basically a blueprint of an object, which consists of methods and attributes. for Example: CAR can be a class as it has attributes like how many doors it has, what color it is, does it have sunroof or not, is it sedan or hatchback. It has methods, or basically behavious, like it moves front and reverse right and left, it's windows opening and closing etc\n",
    "\n",
    "Object: It is an instance of a class, as class is just a blueprint stating how an object will be and what will be it behaviours. ex: Ford Gt, it's a specific car with it's own attribute and behaviour but everything which makes it's existence is the that, it is a type of Car.\n",
    "\n",
    "As we know python is a dynamically typed, High level, intrepeted, object oriented language. It makes us easier and efficient to approach a complex problem using object oriented approach."
   ]
  },
  {
   "cell_type": "code",
   "execution_count": null,
   "id": "71003973",
   "metadata": {},
   "outputs": [],
   "source": [
    "class ExpenseTracker:\n",
    "    \"\"\"this is a class to do expense tracking\"\"\"\n",
    "    \n",
    "    def __init__(self, date, description, transaction_type, amount):\n",
    "        self.date = date\n",
    "        self.description = description\n",
    "        self.transaction_type = transaction_type\n",
    "        self.amount = amount"
   ]
  },
  {
   "cell_type": "code",
   "execution_count": null,
   "id": "46f4e14e",
   "metadata": {},
   "outputs": [],
   "source": [
    "obj1 = ExpenseTracker('23-02-2023', 'petrol', 'debit', '500')\n",
    "obj2 = ExpenseTracker('23-02-2023', 'food', 'debit', '500')\n",
    "obj1.amount"
   ]
  },
  {
   "cell_type": "code",
   "execution_count": 3,
   "id": "ab99ec65",
   "metadata": {},
   "outputs": [],
   "source": [
    "class ExpenseTracker:\n",
    "    \n",
    "    #class attribute\n",
    "    expense_tracker_version = 0.1\n",
    "    def __init__(self, tracker_category, opening_balance, budget):\n",
    "        self.tracker_category = tracker_category\n",
    "        self.opening_balance = opening_balance\n",
    "        self.budget = budget"
   ]
  },
  {
   "cell_type": "code",
   "execution_count": 4,
   "id": "a8e56ddc",
   "metadata": {},
   "outputs": [],
   "source": [
    "home_tracker = ExpenseTracker('home', 3000, 10000)"
   ]
  },
  {
   "cell_type": "code",
   "execution_count": 5,
   "id": "5f766ee8",
   "metadata": {},
   "outputs": [
    {
     "data": {
      "text/plain": [
       "'home'"
      ]
     },
     "execution_count": 5,
     "metadata": {},
     "output_type": "execute_result"
    }
   ],
   "source": [
    "home_tracker.tracker_category"
   ]
  },
  {
   "cell_type": "code",
   "execution_count": null,
   "id": "d791f90b",
   "metadata": {},
   "outputs": [],
   "source": [
    "shopping_tracker = ExpenseTracker(\"shopping\", 1000, 5000)"
   ]
  },
  {
   "cell_type": "code",
   "execution_count": 7,
   "id": "383a21a2",
   "metadata": {},
   "outputs": [
    {
     "data": {
      "text/plain": [
       "1000"
      ]
     },
     "execution_count": 7,
     "metadata": {},
     "output_type": "execute_result"
    }
   ],
   "source": [
    "shopping_tracker.opening_balance"
   ]
  },
  {
   "cell_type": "markdown",
   "id": "2a29b85a",
   "metadata": {},
   "source": [
    "Note: self basically helps to maintain attributes to its particular object instance of the class.\n"
   ]
  },
  {
   "cell_type": "code",
   "execution_count": 12,
   "id": "f0da742a",
   "metadata": {},
   "outputs": [
    {
     "data": {
      "text/plain": [
       "{'tracker_category': 'home', 'opening_balance': 3000, 'budget': 10000}"
      ]
     },
     "execution_count": 12,
     "metadata": {},
     "output_type": "execute_result"
    }
   ],
   "source": [
    "# inbuilt function __dict__\n",
    "# It shows all the attriubtes of the object\n",
    "\n",
    "home_tracker.__dict__"
   ]
  },
  {
   "cell_type": "code",
   "execution_count": 13,
   "id": "4c1ec3fb",
   "metadata": {},
   "outputs": [
    {
     "data": {
      "text/plain": [
       "1000"
      ]
     },
     "execution_count": 13,
     "metadata": {},
     "output_type": "execute_result"
    }
   ],
   "source": [
    "# getattr() gives the value of the attribute given in the function\n",
    "\n",
    "getattr(shopping_tracker, 'opening_balance')"
   ]
  },
  {
   "cell_type": "code",
   "execution_count": 14,
   "id": "a19fb798",
   "metadata": {},
   "outputs": [
    {
     "data": {
      "text/plain": [
       "True"
      ]
     },
     "execution_count": 14,
     "metadata": {},
     "output_type": "execute_result"
    }
   ],
   "source": [
    "# hasattr() gives a boolean value \n",
    "# if the fed attribute is present or not in that object instance\n",
    "\n",
    "# it's a common practice to check first whether the requesting attribute\n",
    "# is present of not hence, always run hasattr() before getattr() or delattr()\n",
    "hasattr(shopping_tracker, 'budget')"
   ]
  },
  {
   "cell_type": "code",
   "execution_count": 23,
   "id": "a07671da",
   "metadata": {},
   "outputs": [
    {
     "data": {
      "text/plain": [
       "{'tracker_category': 'shopping', 'budget': 5000}"
      ]
     },
     "execution_count": 23,
     "metadata": {},
     "output_type": "execute_result"
    }
   ],
   "source": [
    "# delattr()\n",
    "\n",
    "delattr(shopping_tracker,'opening_balance')\n",
    "shopping_tracker.__dict__"
   ]
  }
 ],
 "metadata": {
  "kernelspec": {
   "display_name": "Python 3 (ipykernel)",
   "language": "python",
   "name": "python3"
  },
  "language_info": {
   "codemirror_mode": {
    "name": "ipython",
    "version": 3
   },
   "file_extension": ".py",
   "mimetype": "text/x-python",
   "name": "python",
   "nbconvert_exporter": "python",
   "pygments_lexer": "ipython3",
   "version": "3.9.12"
  }
 },
 "nbformat": 4,
 "nbformat_minor": 5
}
