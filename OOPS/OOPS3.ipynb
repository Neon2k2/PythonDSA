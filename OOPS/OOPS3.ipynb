{
 "cells": [
  {
   "cell_type": "markdown",
   "id": "916931d3",
   "metadata": {},
   "source": [
    "Abstract class: An abstract class can be considered as a blueprint for other classes. It allows you to create a set of methods that must be created within any child classes built from the abstract class.\n",
    "\n"
   ]
  },
  {
   "cell_type": "code",
   "execution_count": 1,
   "id": "722b9ca6",
   "metadata": {},
   "outputs": [],
   "source": [
    "from abc import ABC, abstractmethod"
   ]
  },
  {
   "cell_type": "code",
   "execution_count": 6,
   "id": "2476335b",
   "metadata": {},
   "outputs": [],
   "source": [
    "class Vehicle(ABC):\n",
    "    \n",
    "    @abstractmethod\n",
    "    def get_value(self):\n",
    "        pass\n",
    "    \n",
    "class car(Vehicle):\n",
    "    def __init__(self, make, model, fare):\n",
    "        self.make = make\n",
    "        self.fare = fare\n",
    "        self.model = model\n",
    "        \n",
    "    def get_value(self):\n",
    "        return 1000 + self.fare"
   ]
  },
  {
   "cell_type": "code",
   "execution_count": 7,
   "id": "72758e4d",
   "metadata": {},
   "outputs": [],
   "source": [
    "myobj = car(\"Tesla\", 48, 2019)"
   ]
  },
  {
   "cell_type": "code",
   "execution_count": 8,
   "id": "51cd0950",
   "metadata": {},
   "outputs": [
    {
     "data": {
      "text/plain": [
       "3019"
      ]
     },
     "execution_count": 8,
     "metadata": {},
     "output_type": "execute_result"
    }
   ],
   "source": [
    "myobj.get_value()"
   ]
  },
  {
   "cell_type": "code",
   "execution_count": 11,
   "id": "5b891bb1",
   "metadata": {},
   "outputs": [],
   "source": [
    "from abc import ABC, abstractmethod"
   ]
  },
  {
   "cell_type": "code",
   "execution_count": 36,
   "id": "ef640280",
   "metadata": {},
   "outputs": [],
   "source": [
    "class TextReaderAbstract(ABC):\n",
    "    \n",
    "    def __init__(self, path, filename):\n",
    "        self.path = path\n",
    "        self.filename = filename\n",
    "        \n",
    "    @abstractmethod\n",
    "    def get_path(self):\n",
    "        pass\n",
    "    \n",
    "    @abstractmethod\n",
    "    def get_filename(self):\n",
    "        pass\n",
    "    \n",
    "class TextReader(TextReaderAbstract):\n",
    "    \n",
    "    def get_path(self):\n",
    "        return self.path\n",
    "    \n",
    "    def get_filename(self):\n",
    "        return self.filename\n",
    "    "
   ]
  },
  {
   "cell_type": "code",
   "execution_count": 38,
   "id": "fe89be64",
   "metadata": {},
   "outputs": [],
   "source": [
    "myobj = TextReader(\"/user/download\", \"sample.txt\")"
   ]
  },
  {
   "cell_type": "code",
   "execution_count": 39,
   "id": "161ef9ee",
   "metadata": {},
   "outputs": [
    {
     "data": {
      "text/plain": [
       "'/user/download'"
      ]
     },
     "execution_count": 39,
     "metadata": {},
     "output_type": "execute_result"
    }
   ],
   "source": [
    "myobj.get_path()"
   ]
  },
  {
   "cell_type": "code",
   "execution_count": 41,
   "id": "b18e53c2",
   "metadata": {},
   "outputs": [],
   "source": [
    "class Bank(ABC):\n",
    "    \n",
    "    @abstractmethod\n",
    "    def get_interest(self):\n",
    "        pass"
   ]
  },
  {
   "cell_type": "code",
   "execution_count": 42,
   "id": "3cab64fd",
   "metadata": {},
   "outputs": [],
   "source": [
    "class HDFC(Bank):\n",
    "    \n",
    "    def get_interest(self):\n",
    "        return 8.9"
   ]
  },
  {
   "cell_type": "code",
   "execution_count": 43,
   "id": "b8057dd9",
   "metadata": {},
   "outputs": [],
   "source": [
    "myobj1 = HDFC()"
   ]
  },
  {
   "cell_type": "code",
   "execution_count": 44,
   "id": "9fd23dba",
   "metadata": {},
   "outputs": [
    {
     "data": {
      "text/plain": [
       "8.9"
      ]
     },
     "execution_count": 44,
     "metadata": {},
     "output_type": "execute_result"
    }
   ],
   "source": [
    "myobj1.get_interest()"
   ]
  },
  {
   "cell_type": "code",
   "execution_count": 48,
   "id": "c775b4d9",
   "metadata": {},
   "outputs": [
    {
     "name": "stdout",
     "output_type": "stream",
     "text": [
      "function A\n"
     ]
    }
   ],
   "source": [
    "from abc import ABC,abstractmethod\n",
    "\n",
    "class A(ABC):\n",
    "\n",
    "    @abstractmethod\n",
    "    def fun1(self):\n",
    "        print('function of class A called')\n",
    "\n",
    "    @abstractmethod\n",
    "    def fun2(self):\n",
    "        pass\n",
    "\n",
    "class B(A):\n",
    "    def fun1(self):\n",
    "        print('function 1 called')\n",
    "    def fun2(self):\n",
    "        print('function 2 called')\n",
    "o = B()\n",
    "o.fun1()\n"
   ]
  },
  {
   "cell_type": "code",
   "execution_count": null,
   "id": "1391c3a7",
   "metadata": {},
   "outputs": [],
   "source": [
    "from abc import ABC,abstractmethod\n",
    "\n",
    "class A(ABC):\n",
    "\n",
    "    @abstractmethod\n",
    "    def fun1(self):\n",
    "        print('function A')\n",
    "\n",
    "    @abstractmethod\n",
    "    def fun2(self):\n",
    "        pass\n",
    "\n",
    "class B(A):\n",
    "\n",
    "    def fun1(self):\n",
    "#         will run the method of superclass\n",
    "        super().fun1()\n",
    "    def fun2(self):\n",
    "        print('function2')\n",
    "o = B()\n",
    "o.fun1()"
   ]
  },
  {
   "cell_type": "code",
   "execution_count": null,
   "id": "360e2a85",
   "metadata": {},
   "outputs": [],
   "source": [
    "Exception Handling:"
   ]
  },
  {
   "cell_type": "code",
   "execution_count": null,
   "id": "ac17fa05",
   "metadata": {},
   "outputs": [],
   "source": [
    "# if:\n",
    "#     <our logic>\n",
    "# else if Exception:\n",
    "#     <Alternative Logic>\n",
    "    \n",
    "\n",
    "# try:\n",
    "#     a+b\n",
    "# except:\n",
    "#     int(a)+int(b)\n",
    "\n",
    "class Vehicle():\n",
    "    def __init__(self,make,model,fuel):\n",
    "        self.make=make\n",
    "        self.model=model\n",
    "        self.fuel=fuel\n",
    "    def get_value(self):\n",
    "        try:\n",
    "            age=2021-self.model\n",
    "            return 1000+(1/age)\n",
    "        except TypeError:\n",
    "            age=2021-int(self.model)\n",
    "            return 1000+(1/age)\n",
    "        except ZeroDivisionError:\n",
    "            age=2021-int(self.model)\n",
    "            return 1000*(1)\n",
    "\n",
    "\n",
    "myobj = Vehicle(\"Tesla\",2021,\"Electric\")\n",
    "\n",
    "myobj.get_value()"
   ]
  },
  {
   "cell_type": "code",
   "execution_count": null,
   "id": "24363d50",
   "metadata": {},
   "outputs": [],
   "source": [
    "# multiple exception\n",
    "\n",
    "\n",
    "class Vehicle():\n",
    "    def __init__(self,make,model,fuel):\n",
    "        self.make=make\n",
    "        self.model=model\n",
    "        self.fuel=fuel\n",
    "    def get_value(self):\n",
    "        try:\n",
    "            age=2021-self.model\n",
    "            return 1000+(1/age)\n",
    "        except TypeError:\n",
    "            try:\n",
    "                age=2021-int(self.model)\n",
    "                return 1000+(1/age)\n",
    "            except ZeroDivisionError:\n",
    "                age=2021-int(self.model)\n",
    "                return 1000*(1)\n",
    "            except:\n",
    "                return \"You have entered Model Year in incorrect format\"\n",
    "            \n",
    "myobj=Vehicle(\"Tesla\",\"new\",\"Electric\")\n",
    "\n",
    "myobj.get_value()"
   ]
  },
  {
   "cell_type": "code",
   "execution_count": 49,
   "id": "c6818cee",
   "metadata": {},
   "outputs": [
    {
     "name": "stdout",
     "output_type": "stream",
     "text": [
      "Name Error occured\n"
     ]
    }
   ],
   "source": [
    "try:\n",
    "    a = 10\n",
    "    b = 0\n",
    "    print(d)\n",
    "    c = a/b\n",
    "except NameError:\n",
    "    print('Name Error occured')\n",
    "except ZeroDivisionError:\n",
    "    print('Zero Division Error occured')"
   ]
  },
  {
   "cell_type": "code",
   "execution_count": null,
   "id": "ebe4352b",
   "metadata": {},
   "outputs": [],
   "source": [
    "# custom Exceptions\n",
    "\n",
    "class NegativeCarValue(Exception):\n",
    "    def __init__(self,value,message=\"car value cannot be negative\"):\n",
    "        self.value=value\n",
    "        self.message=message\n",
    "        super().__init__(self.message)\n",
    "    \n",
    "    def __str__(self):\n",
    "        return f'{self.message}-->{self.value}'\n",
    "\n",
    "a=-1\n",
    "if a<0:\n",
    "    raise NegativeCarValue(a)\n",
    "\n",
    "class Vehicle():\n",
    "    def __init__(self,make,model,fuel):\n",
    "        self.make=make\n",
    "        self.model=model\n",
    "        self.fuel=fuel\n",
    "        self.current_year=2021\n",
    "    def get_value(self):\n",
    "        age=self.current_year-self.model\n",
    "        \n",
    "        if age < 0 :\n",
    "            raise NegativeCarValue(age)\n",
    "        else:\n",
    "            return 1000*(1/age)\n",
    "\n",
    "myobj=Vehicle(\"Tesla\",2023,\"electric\")\n",
    "\n",
    "myobj.get_value()"
   ]
  },
  {
   "cell_type": "code",
   "execution_count": 51,
   "id": "7f22d499",
   "metadata": {},
   "outputs": [
    {
     "name": "stdout",
     "output_type": "stream",
     "text": [
      "Zero Division Error occured\n"
     ]
    }
   ],
   "source": [
    "class ZeroDenominatorError(ZeroDivisionError):\n",
    "    pass\n",
    "try:\n",
    "    a = 10\n",
    "    b = 0\n",
    "    if(b==0):\n",
    "        raise ZeroDenominatorError()\n",
    "    c = a/b\n",
    "except ZeroDivisionError:\n",
    "    print('Zero Division Error occured')\n",
    "except ZeroDenominatorError:\n",
    "    print('Zero Denominator Error occured')"
   ]
  },
  {
   "cell_type": "code",
   "execution_count": 56,
   "id": "8553ea98",
   "metadata": {},
   "outputs": [
    {
     "name": "stdout",
     "output_type": "stream",
     "text": [
      "2\n",
      "4\n",
      "8\n"
     ]
    }
   ],
   "source": [
    "# Except and finally:\n",
    "\n",
    "\n",
    "class NegativeZeroModelYear(Exception):\n",
    "    def __init__(self,value,message=\"Model year cannot be equal or greater than 2021\"):\n",
    "        self.value=value\n",
    "        self.message=message\n",
    "        super().__init__(self.message)\n",
    "    \n",
    "    def __str__(self):\n",
    "        return f'{self.message}-->{self.value}'\n",
    "class CarModeYearAsString(Exception):\n",
    "    #Exception if the car value comes as negative\n",
    "    def __init__(self,value,message=\"Model year can not be strings.Try Passing int values\"):\n",
    "        self.value=value\n",
    "        self.message=message\n",
    "        super().init__(self.message)\n",
    "    def __str__(self):\n",
    "        return f'{self.message}-->{self.value}'\n",
    "\n",
    "class Vehicle():\n",
    "    def __init__(self,make,model,fuel):\n",
    "        self.make=make\n",
    "        self.model=model\n",
    "        self.fuel=fuel\n",
    "        self.current_year=2021\n",
    "        self.value=None\n",
    "    def get_value(self):\n",
    "        try:\n",
    "            if type(self.model)==str:\n",
    "                status=\"custom\"\n",
    "                raise CarModelYearAsString(self.model)\n",
    "            elif self.model>=self.current_year:\n",
    "                status=\"custom\"\n",
    "                raise NegativeZeroModelYear(self.model)\n",
    "            else:\n",
    "                self.age=self.current_year-self.model\n",
    "                self.value=1000*(1/self.age)\n",
    "                status=\"success\"\n",
    "        except TypeError:\n",
    "            self.age=self.current_year-int(self.model)\n",
    "            self.value=1000*(1/self.age)\n",
    "            status=\"inbuilt\"\n",
    "        else:\n",
    "            print(\"code ran without any exceptions\")\n",
    "        finally:\n",
    "            if status==\"custom\":\n",
    "                print(\"code has inbuilt exceptions\")\n",
    "            elif status==\"inbuilt\":\n",
    "                print(\"code has inbuilt exceptions,please rectify that\")\n",
    "            else:\n",
    "                print(\"The value without any exception\",self.value)\n",
    "\n",
    "myobj=Vehicle(\"Tesla\",2019,\"electric\")\n",
    "myobj.get_value()"
   ]
  },
  {
   "cell_type": "code",
   "execution_count": 60,
   "id": "1564e1b1",
   "metadata": {},
   "outputs": [
    {
     "name": "stdout",
     "output_type": "stream",
     "text": [
      "‘else works’ ‘finally works’\n"
     ]
    }
   ],
   "source": [
    "class ZeroDenominatorError(ZeroDivisionError):\n",
    "    pass\n",
    "try:\n",
    "    a = 10\n",
    "    b = 5\n",
    "    if(b==0):\n",
    "        raise ZeroDenominatorError()\n",
    "    c = a/b\n",
    "except ZeroDivisionError:\n",
    "    print('Zero Division Error occured',end= '‘ ‘')\n",
    "except ZeroDenominatorError:\n",
    "    print('Zero Denominator Error occured',end = '‘ ‘')\n",
    "else:\n",
    "    print('‘else works’',end=' ')\n",
    "finally:\n",
    "    print('‘finally works’')"
   ]
  }
 ],
 "metadata": {
  "kernelspec": {
   "display_name": "Python 3 (ipykernel)",
   "language": "python",
   "name": "python3"
  },
  "language_info": {
   "codemirror_mode": {
    "name": "ipython",
    "version": 3
   },
   "file_extension": ".py",
   "mimetype": "text/x-python",
   "name": "python",
   "nbconvert_exporter": "python",
   "pygments_lexer": "ipython3",
   "version": "3.9.13"
  }
 },
 "nbformat": 4,
 "nbformat_minor": 5
}
