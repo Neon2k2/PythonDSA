{
 "cells": [
  {
   "cell_type": "markdown",
   "id": "d841e19f",
   "metadata": {},
   "source": [
    "Recursion with Strings"
   ]
  },
  {
   "cell_type": "markdown",
   "id": "8506d95d",
   "metadata": {},
   "source": [
    "Let's assume we have string on l length.\n",
    "And we want to replace all the occurence of 'a' with 'b'.\n",
    "\n",
    "base case: l = 0 do nothing just return the string\n",
    "assumption: we assume that for all l-1 string it is true.\n",
    "we are bascially gonna assume that except first element evey occurence of 'a' has already been replaced by the 'b'."
   ]
  },
  {
   "cell_type": "code",
   "execution_count": null,
   "id": "915f3f13",
   "metadata": {},
   "outputs": [],
   "source": [
    "def replaceChar(string, a, b):\n",
    "    if len(string) == 0:\n",
    "        return string\n",
    "    subString = replaceChar(string[1:], a,b)\n",
    "    if string[0] == a:\n",
    "        return b + subString\n",
    "    else:\n",
    "        return string[0] + subString\n",
    "    \n",
    "s = 'asfgrwegetwetcvdaaadaadsfaaga'\n",
    "\n",
    "T = replaceChar(s, 'a', 'G')\n",
    "print(T)\n",
    "    "
   ]
  },
  {
   "cell_type": "markdown",
   "id": "698005ba",
   "metadata": {},
   "source": [
    "Given a string, Compute recursively a new string where all 'x' chars have been removed.\n",
    "\n",
    "input: String S\n",
    "output: Modified String\n",
    "\n",
    "So to solve this problem:\n",
    "1: len == 0 or len == 1 : return the string\n",
    "2: Now run the function on the string[1:] part\n",
    "3: if a[0] is equal to 'x' then just return the output of function(string[1:]) : return the a[0] + function(string[1:])\n"
   ]
  },
  {
   "cell_type": "code",
   "execution_count": null,
   "id": "8be3cb07",
   "metadata": {},
   "outputs": [],
   "source": [
    "def removeX(string):\n",
    "    l = len(string)\n",
    "    if l == 0:\n",
    "        return string\n",
    "    subString = removeX(string[1:])\n",
    "    if string[0] == 'x':\n",
    "        return subString\n",
    "    else:\n",
    "        return string[0] + subString\n",
    "    \n",
    "x = input()\n",
    "print(removeX(x))\n",
    "        "
   ]
  },
  {
   "cell_type": "markdown",
   "id": "547a3d27",
   "metadata": {},
   "source": [
    "Removing all the occurence of 'pi' in the given string\n",
    "\n",
    "1: if len(string) < 2: then we have return the string\n",
    "2: check if string[0] == 'p' and string[1] == 'i': \n",
    "   check for string[2:] else return string[0] + check for string[1:]\n",
    "   "
   ]
  },
  {
   "cell_type": "code",
   "execution_count": 2,
   "id": "722f8153",
   "metadata": {},
   "outputs": [
    {
     "name": "stdout",
     "output_type": "stream",
     "text": [
      "3.14qw3.14qwqw3.14dsf3.143.14i\n"
     ]
    }
   ],
   "source": [
    "def removePi(s):\n",
    "    s = s.lower()\n",
    "    l = len(s)\n",
    "    if l < 2:\n",
    "        return s\n",
    "    if s[0] == 'p' or s[1] == 'i':\n",
    "        return '3.14' + removePi(s[2:])\n",
    "    else:\n",
    "        return s[0] + removePi(s[1:])\n",
    "    \n",
    "x = 'piqwpiqwqwpidsfgippi'\n",
    "print(removePi(x))"
   ]
  },
  {
   "cell_type": "markdown",
   "id": "ced38aa2",
   "metadata": {},
   "source": [
    "Given a string S, remove consecutive duplicates from it recursively.\n",
    "Input Format :\n",
    "String S\n",
    "Output Format :\n",
    "Output string\n",
    "Constraints :\n",
    "1 <= |S| <= 10^3\n",
    "where |S| represents the length of string\n"
   ]
  },
  {
   "cell_type": "code",
   "execution_count": 4,
   "id": "2466538e",
   "metadata": {},
   "outputs": [
    {
     "name": "stdout",
     "output_type": "stream",
     "text": [
      "sgdeusgegrhrgsdfsdfgfsfsdgsrs\n"
     ]
    }
   ],
   "source": [
    "def removeConsec(s):\n",
    "    s = s.lower()\n",
    "    l = len(s)\n",
    "    if l < 2:\n",
    "        return s\n",
    "    if s[0] == s[1]:\n",
    "        return removeConsec(s[1:])\n",
    "    else:\n",
    "        return s[0] + removeConsec(s[1:])\n",
    "    \n",
    "x = 'ssgdddeeuussggeeeggrhrggsdfsdfgfssfsdgsrssssss'\n",
    "print(removeConsec(x))\n",
    "    "
   ]
  },
  {
   "cell_type": "markdown",
   "id": "0a8f706d",
   "metadata": {},
   "source": [
    "Binary search using Recursion:\n"
   ]
  },
  {
   "cell_type": "code",
   "execution_count": 12,
   "id": "42e29e7f",
   "metadata": {},
   "outputs": [
    {
     "name": "stdout",
     "output_type": "stream",
     "text": [
      "9\n"
     ]
    }
   ],
   "source": [
    "def binarySearch(a, x, si, ei):\n",
    "    if si > ei:\n",
    "        return -1\n",
    "    mid = (si  + ei)//2\n",
    "    if a[mid] == x:\n",
    "        return mid\n",
    "    elif a[mid] > x:\n",
    "        return binarySearch(a,x, si, mid -1)\n",
    "    else:\n",
    "        return binarySearch(a, x, mid + 1, ei)\n",
    "    \n",
    "l = [1,2,3,4,5,6,7,8,8,9, 10, 22, 32]\n",
    "print(binarySearch(l,9,0,13))"
   ]
  },
  {
   "cell_type": "markdown",
   "id": "66ff91c7",
   "metadata": {},
   "source": [
    "Merge Sort:\n",
    "\n",
    "Here is a step-by-step explanation of the implementation of the mergeSort function:\n",
    "\n",
    "1.The function is defined to take three arguments: the array to be sorted, the starting index of the subarray to be sorted, and the ending index of the subarray to be sorted.\n",
    "\n",
    "2.The function first checks if the subarray to be sorted has a size greater than 1, which is the base case for the recursive implementation of merge sort. If the size is less than or equal to 1, the subarray is already sorted and the function returns without doing anything.\n",
    "\n",
    "3.If the size of the subarray is greater than 1, the function calculates the midpoint of the subarray and calls itself recursively on the left and right halves of the subarray.\n",
    "\n",
    "4.After the recursive calls, the function calls the merge function to merge the two sorted subarrays.\n",
    "\n",
    "5.The merge function takes four arguments: the array to be merged, the starting index of the left subarray, the ending index of the left subarray (which is also the starting index of the right subarray), and the ending index of the right subarray.\n",
    "\n",
    "6.The function creates two temporary arrays, 'left' and 'right', to hold the left and right subarrays of the array to be merged.\n",
    "\n",
    "7.The function appends 'inf' to the end of both the left and right subarrays to act as a sentinel value to mark the end of the subarray.\n",
    "\n",
    "8.The function initializes two variables 'i' and 'j' to 0, which will be used as pointers to the first element of the left and right subarrays respectively.\n",
    "\n",
    "9.The function then iterates over the indices of the subarray to be merged, starting from the starting index of the left subarray, up to the ending index of the right subarray.\n",
    "\n",
    "10.At each iteration, the function compares the element pointed to by 'i' in the left subarray and the element pointed to by 'j' in the right subarray. If the element in the left subarray is smaller than or equal to the element in the right subarray, the function copies the element in the left subarray to the next position in the merged array and increments 'i'. If the element in the right subarray is smaller, the function copies the element in the right subarray to the next position in the merged array and increments 'j'.\n",
    "\n",
    "11.The function continues to compare elements and copy them to the merged array until one of the subarrays has been completely copied.\n",
    "\n",
    "12.Once one of the subarrays has been exhausted, the remaining elements in the other subarray are copied to the merged array.\n",
    "\n",
    "13.Finally, the merged array is a sorted version of the original subarray, and the mergeSort function returns this sorted subarray."
   ]
  },
  {
   "cell_type": "code",
   "execution_count": 3,
   "id": "8ea960df",
   "metadata": {},
   "outputs": [
    {
     "name": "stdout",
     "output_type": "stream",
     "text": [
      "6 \n",
      "2 6 8 5 4 3\n",
      "2 3 4 5 6 8\n"
     ]
    }
   ],
   "source": [
    "def mergeSort(arr, start, end):\n",
    "    if end - start > 1:\n",
    "        mid = (start + end) // 2\n",
    "        mergeSort(arr, start, mid)\n",
    "        mergeSort(arr, mid, end)\n",
    "        merge(arr, start, mid, end)\n",
    "\n",
    "\n",
    "def merge(arr, start, mid, end):\n",
    "    left = arr[start:mid]\n",
    "    right = arr[mid:end]\n",
    "    left.append(float('inf'))\n",
    "    right.append(float('inf'))\n",
    "    i = j = 0\n",
    "    for k in range(start, end):\n",
    "        if left[i] <= right[j]:\n",
    "            arr[k] = left[i]\n",
    "            i += 1\n",
    "        else:\n",
    "            arr[k] = right[j]\n",
    "            j += 1\n",
    "# Main\n",
    "n=int(input())\n",
    "arr=list(int(i) for i in input().strip().split(' '))\n",
    "mergeSort(arr, 0, n)\n",
    "print(*arr)\n"
   ]
  },
  {
   "cell_type": "markdown",
   "id": "c09ec9c9",
   "metadata": {},
   "source": [
    "Quick sort:\n",
    "\n",
    "The quickSort function takes in an array arr, a starting index start, and an ending index end. If the starting index is less than the ending index, indicating that there is more than one element in the array to be sorted, the function calls the partition function to partition the array around a pivot element. It then recursively calls quickSort on the left and right sub-arrays, which are the sub-arrays to the left and right of the pivot, respectively.\n",
    "\n",
    "The partition function takes in the same parameters as quickSort. It first selects the pivot to be the last element of the array. It then loops through the array from the starting index to the ending index (not including the pivot) and checks if each element is less than the pivot. If an element is less than the pivot, the function swaps it with the element at the current index of the left sub-array, which is initially the starting index minus one. This moves the element to the left sub-array, which contains all the elements less than the pivot. After the loop finishes, the function swaps the pivot with the first element of the right sub-array, which is the element just to the right of the left sub-array. This puts the pivot in its correct sorted position in the array. The function returns the index of the pivot element."
   ]
  },
  {
   "cell_type": "code",
   "execution_count": null,
   "id": "0b773420",
   "metadata": {},
   "outputs": [],
   "source": [
    "def quickSort(arr, start, end):\n",
    "    if start < end:\n",
    "        pivotIndex = partition(arr, start, end)\n",
    "        quickSort(arr, start, pivotIndex - 1)\n",
    "        quickSort(arr, pivotIndex + 1, end)\n",
    "\n",
    "\n",
    "def partition(arr, start, end):\n",
    "    pivot = arr[end]\n",
    "    i = start - 1\n",
    "    for j in range(start, end):\n",
    "        if arr[j] < pivot:\n",
    "            i += 1\n",
    "            arr[i], arr[j] = arr[j], arr[i]\n",
    "    arr[i + 1], arr[end] = arr[end], arr[i + 1]\n",
    "    return i + 1\n",
    "\n",
    "\n",
    "n = int(input())\n",
    "arr = list(map(int, input().strip().split()))\n",
    "quickSort(arr, 0, n-1)\n",
    "print(*arr)\n"
   ]
  },
  {
   "cell_type": "markdown",
   "id": "b3d0fdcd",
   "metadata": {},
   "source": [
    "The Tower of Hanoi is a mathematical puzzle that consists of three pegs and a set of discs of different sizes, which can slide onto any peg. The puzzle starts with all the discs on one peg, arranged in order of size with the largest at the bottom and the smallest at the top. The objective of the puzzle is to move the entire stack to another peg, obeying the following rules:\n",
    "\n",
    "Only one disc can be moved at a time.\n",
    "Each move consists of taking the upper disc from one of the stacks and placing it on top of another stack or an empty peg.\n",
    "No disc may be placed on top of a smaller disc.\n",
    "The puzzle has a recursive solution, which means that it can be solved by breaking it down into smaller subproblems. The minimum number of moves required to solve the puzzle with n discs is 2^n - 1.\n",
    "\n",
    "The Tower of Hanoi is a classic example of a problem that can be solved using recursion. Each move in the solution can be seen as a smaller subproblem of the original problem. The solution involves moving the top n-1 discs from the starting peg to the spare peg, then moving the bottom disc to the destination peg, and finally moving the n-1 discs from the spare peg to the destination peg. This process is repeated recursively until all the discs are on the destination peg."
   ]
  },
  {
   "cell_type": "code",
   "execution_count": null,
   "id": "22f1793b",
   "metadata": {},
   "outputs": [],
   "source": [
    "def tower_of_hanoi(n, source, aux, dest):\n",
    "    if n == 1:\n",
    "        print(source, dest)\n",
    "        return\n",
    "    \n",
    "    tower_of_hanoi(n-1, source, dest, aux)\n",
    "    print(source, dest)\n",
    "    tower_of_hanoi(n-1, aux, source, dest)\n",
    "\n",
    "n = int(input())\n",
    "tower_of_hanoi(n, 'a', 'b', 'c')\n"
   ]
  },
  {
   "cell_type": "markdown",
   "id": "f408148b",
   "metadata": {},
   "source": [
    "In this implementation, the tower_of_hanoi function takes four arguments: n, the number of disks to move; source, the starting peg; aux, the auxiliary peg; and dest, the destination peg.\n",
    "\n",
    "The base case of the recursion is when n == 1. In this case, we simply print the move to move the top disk from the source peg to the dest peg.\n",
    "\n",
    "In the recursive case, we first move the top n-1 disks from the source peg to the aux peg, using the dest peg as the auxiliary. Then we move the bottom disk from the source peg to the dest peg, and print the move. Finally, we move the n-1 disks from the aux peg to the dest peg, using the source peg as the auxiliary.\n",
    "\n",
    "To call the function, we first read in the value of n from the user, then call tower_of_hanoi with the initial pegs a, b, and c.\n",
    "\n",
    "When you run this code and enter a value for n, it will print out the solution to the Tower of Hanoi puzzle with that many disks, with each move printed on a separate line, and the source and destination pegs separated by a space."
   ]
  }
 ],
 "metadata": {
  "kernelspec": {
   "display_name": "Python 3 (ipykernel)",
   "language": "python",
   "name": "python3"
  },
  "language_info": {
   "codemirror_mode": {
    "name": "ipython",
    "version": 3
   },
   "file_extension": ".py",
   "mimetype": "text/x-python",
   "name": "python",
   "nbconvert_exporter": "python",
   "pygments_lexer": "ipython3",
   "version": "3.9.12"
  }
 },
 "nbformat": 4,
 "nbformat_minor": 5
}
