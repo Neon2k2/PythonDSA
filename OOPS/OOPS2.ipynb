{
 "cells": [
  {
   "cell_type": "markdown",
   "id": "d4f76722",
   "metadata": {},
   "source": [
    "Inheritance:\n",
    "\n",
    "A class inheriting attributes and methods of some other class, is called inheritance.\n",
    "\n",
    "Now this can we either, multilevel inheritance, multiple class inheritance."
   ]
  },
  {
   "cell_type": "code",
   "execution_count": 1,
   "id": "e6f4ed17",
   "metadata": {},
   "outputs": [],
   "source": [
    "class Vehicle():\n",
    "    def __init__(self, make, model, fuel):\n",
    "        self.make = make\n",
    "        self.model = model\n",
    "        self.fuel = fuel\n",
    "        "
   ]
  },
  {
   "cell_type": "code",
   "execution_count": 16,
   "id": "c07d6a6a",
   "metadata": {},
   "outputs": [],
   "source": [
    "class Car(Vehicle):\n",
    "    def __init__(self, make, model, fuel, air_conditioning, sunroof):\n",
    "#         parent attributes\n",
    "        Vehicle.make = make\n",
    "        Vehicle.model = model\n",
    "        Vehicle.fuel = fuel\n",
    "        \n",
    "        self.air_conditioning = air_conditioning\n",
    "        self.sunroof = sunroof\n",
    "        \n",
    "    def show_parent_attribute(self):\n",
    "        print(Vehicle.make, \"\", Vehicle.model, \" \", Vehicle.fuel)"
   ]
  },
  {
   "cell_type": "code",
   "execution_count": 20,
   "id": "9b557f50",
   "metadata": {},
   "outputs": [],
   "source": [
    "myobj = Car(\"tata\", 2019, \"Electric\", True, True)"
   ]
  },
  {
   "cell_type": "code",
   "execution_count": 21,
   "id": "e13b8302",
   "metadata": {},
   "outputs": [
    {
     "name": "stdout",
     "output_type": "stream",
     "text": [
      "tata  2019   Electric\n"
     ]
    }
   ],
   "source": [
    "myobj.show_parent_attribute()\n"
   ]
  }
 ],
 "metadata": {
  "kernelspec": {
   "display_name": "Python 3 (ipykernel)",
   "language": "python",
   "name": "python3"
  },
  "language_info": {
   "codemirror_mode": {
    "name": "ipython",
    "version": 3
   },
   "file_extension": ".py",
   "mimetype": "text/x-python",
   "name": "python",
   "nbconvert_exporter": "python",
   "pygments_lexer": "ipython3",
   "version": "3.9.12"
  }
 },
 "nbformat": 4,
 "nbformat_minor": 5
}
