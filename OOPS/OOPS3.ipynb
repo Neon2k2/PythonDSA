{
 "cells": [
  {
   "cell_type": "markdown",
   "id": "916931d3",
   "metadata": {},
   "source": [
    "Abstract class: An abstract class can be considered as a blueprint for other classes. It allows you to create a set of methods that must be created within any child classes built from the abstract class.\n",
    "\n"
   ]
  },
  {
   "cell_type": "code",
   "execution_count": 1,
   "id": "a2cd4726",
   "metadata": {},
   "outputs": [],
   "source": [
    "from abc import ABC, abstractmethod"
   ]
  },
  {
   "cell_type": "code",
   "execution_count": 6,
   "id": "9e2f1817",
   "metadata": {},
   "outputs": [],
   "source": [
    "class Vehicle(ABC):\n",
    "    \n",
    "    @abstractmethod\n",
    "    def get_value(self):\n",
    "        pass\n",
    "    \n",
    "class car(Vehicle):\n",
    "    def __init__(self, make, model, fare):\n",
    "        self.make = make\n",
    "        self.fare = fare\n",
    "        self.model = model\n",
    "        \n",
    "    def get_value(self):\n",
    "        return 1000 + self.fare"
   ]
  },
  {
   "cell_type": "code",
   "execution_count": 7,
   "id": "80de7468",
   "metadata": {},
   "outputs": [],
   "source": [
    "myobj = car(\"Tesla\", 48, 2019)"
   ]
  },
  {
   "cell_type": "code",
   "execution_count": 8,
   "id": "cf779026",
   "metadata": {},
   "outputs": [
    {
     "data": {
      "text/plain": [
       "3019"
      ]
     },
     "execution_count": 8,
     "metadata": {},
     "output_type": "execute_result"
    }
   ],
   "source": [
    "myobj.get_value()"
   ]
  },
  {
   "cell_type": "code",
   "execution_count": 11,
   "id": "f2cd0e4c",
   "metadata": {},
   "outputs": [],
   "source": [
    "from abc import ABC, abstractmethod"
   ]
  },
  {
   "cell_type": "code",
   "execution_count": 36,
   "id": "3991870b",
   "metadata": {},
   "outputs": [],
   "source": [
    "class TextReaderAbstract(ABC):\n",
    "    \n",
    "    def __init__(self, path, filename):\n",
    "        self.path = path\n",
    "        self.filename = filename\n",
    "        \n",
    "    @abstractmethod\n",
    "    def get_path(self):\n",
    "        pass\n",
    "    \n",
    "    @abstractmethod\n",
    "    def get_filename(self):\n",
    "        pass\n",
    "    \n",
    "class TextReader(TextReaderAbstract):\n",
    "    \n",
    "    def get_path(self):\n",
    "        return self.path\n",
    "    \n",
    "    def get_filename(self):\n",
    "        return self.filename\n",
    "    "
   ]
  },
  {
   "cell_type": "code",
   "execution_count": 38,
   "id": "e64a7d9a",
   "metadata": {},
   "outputs": [],
   "source": [
    "myobj = TextReader(\"/user/download\", \"sample.txt\")"
   ]
  },
  {
   "cell_type": "code",
   "execution_count": 39,
   "id": "bb62e483",
   "metadata": {},
   "outputs": [
    {
     "data": {
      "text/plain": [
       "'/user/download'"
      ]
     },
     "execution_count": 39,
     "metadata": {},
     "output_type": "execute_result"
    }
   ],
   "source": [
    "myobj.get_path()"
   ]
  },
  {
   "cell_type": "code",
   "execution_count": 41,
   "id": "df35efb4",
   "metadata": {},
   "outputs": [],
   "source": [
    "class Bank(ABC):\n",
    "    \n",
    "    @abstractmethod\n",
    "    def get_interest(self):\n",
    "        pass"
   ]
  },
  {
   "cell_type": "code",
   "execution_count": 42,
   "id": "663decb0",
   "metadata": {},
   "outputs": [],
   "source": [
    "class HDFC(Bank):\n",
    "    \n",
    "    def get_interest(self):\n",
    "        return 8.9"
   ]
  },
  {
   "cell_type": "code",
   "execution_count": 43,
   "id": "97057e03",
   "metadata": {},
   "outputs": [],
   "source": [
    "myobj1 = HDFC()"
   ]
  },
  {
   "cell_type": "code",
   "execution_count": 44,
   "id": "44ed7169",
   "metadata": {},
   "outputs": [
    {
     "data": {
      "text/plain": [
       "8.9"
      ]
     },
     "execution_count": 44,
     "metadata": {},
     "output_type": "execute_result"
    }
   ],
   "source": [
    "myobj1.get_interest()"
   ]
  },
  {
   "cell_type": "code",
   "execution_count": 48,
   "id": "2dd232b2",
   "metadata": {},
   "outputs": [
    {
     "name": "stdout",
     "output_type": "stream",
     "text": [
      "function A\n"
     ]
    }
   ],
   "source": [
    "from abc import ABC,abstractmethod\n",
    "\n",
    "class A(ABC):\n",
    "\n",
    "    @abstractmethod\n",
    "    def fun1(self):\n",
    "        print('function of class A called')\n",
    "\n",
    "    @abstractmethod\n",
    "    def fun2(self):\n",
    "        pass\n",
    "\n",
    "class B(A):\n",
    "    def fun1(self):\n",
    "        print('function 1 called')\n",
    "    def fun2(self):\n",
    "        print('function 2 called')\n",
    "o = B()\n",
    "o.fun1()\n"
   ]
  },
  {
   "cell_type": "code",
   "execution_count": null,
   "id": "31bbfbf2",
   "metadata": {},
   "outputs": [],
   "source": [
    "from abc import ABC,abstractmethod\n",
    "\n",
    "class A(ABC):\n",
    "\n",
    "    @abstractmethod\n",
    "    def fun1(self):\n",
    "        print('function A')\n",
    "\n",
    "    @abstractmethod\n",
    "    def fun2(self):\n",
    "        pass\n",
    "\n",
    "class B(A):\n",
    "\n",
    "    def fun1(self):\n",
    "#         will run the method of superclass\n",
    "        super().fun1()\n",
    "    def fun2(self):\n",
    "        print('function2')\n",
    "o = B()\n",
    "o.fun1()"
   ]
  }
 ],
 "metadata": {
  "kernelspec": {
   "display_name": "Python 3 (ipykernel)",
   "language": "python",
   "name": "python3"
  },
  "language_info": {
   "codemirror_mode": {
    "name": "ipython",
    "version": 3
   },
   "file_extension": ".py",
   "mimetype": "text/x-python",
   "name": "python",
   "nbconvert_exporter": "python",
   "pygments_lexer": "ipython3",
   "version": "3.9.13"
  }
 },
 "nbformat": 4,
 "nbformat_minor": 5
}
