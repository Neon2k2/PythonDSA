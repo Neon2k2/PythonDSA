{
 "cells": [
  {
   "cell_type": "markdown",
   "id": "916931d3",
   "metadata": {},
   "source": [
    "Abstract class: An abstract class can be considered as a blueprint for other classes. It allows you to create a set of methods that must be created within any child classes built from the abstract class.\n",
    "\n"
   ]
  },
  {
   "cell_type": "code",
   "execution_count": 1,
   "id": "d8582399",
   "metadata": {},
   "outputs": [],
   "source": [
    "from abc import ABC, abstractmethod"
   ]
  },
  {
   "cell_type": "code",
   "execution_count": 6,
   "id": "821d7929",
   "metadata": {},
   "outputs": [],
   "source": [
    "class Vehicle(ABC):\n",
    "    \n",
    "    @abstractmethod\n",
    "    def get_value(self):\n",
    "        pass\n",
    "    \n",
    "class car(Vehicle):\n",
    "    def __init__(self, make, model, fare):\n",
    "        self.make = make\n",
    "        self.fare = fare\n",
    "        self.model = model\n",
    "        \n",
    "    def get_value(self):\n",
    "        return 1000 + self.fare"
   ]
  },
  {
   "cell_type": "code",
   "execution_count": 7,
   "id": "e1cf1dbc",
   "metadata": {},
   "outputs": [],
   "source": [
    "myobj = car(\"Tesla\", 48, 2019)"
   ]
  },
  {
   "cell_type": "code",
   "execution_count": 8,
   "id": "7cf37c15",
   "metadata": {},
   "outputs": [
    {
     "data": {
      "text/plain": [
       "3019"
      ]
     },
     "execution_count": 8,
     "metadata": {},
     "output_type": "execute_result"
    }
   ],
   "source": [
    "myobj.get_value()"
   ]
  },
  {
   "cell_type": "code",
   "execution_count": 11,
   "id": "e768a7f5",
   "metadata": {},
   "outputs": [],
   "source": [
    "from abc import ABC, abstractmethod"
   ]
  },
  {
   "cell_type": "code",
   "execution_count": 36,
   "id": "71046191",
   "metadata": {},
   "outputs": [],
   "source": [
    "class TextReaderAbstract(ABC):\n",
    "    \n",
    "    def __init__(self, path, filename):\n",
    "        self.path = path\n",
    "        self.filename = filename\n",
    "        \n",
    "    @abstractmethod\n",
    "    def get_path(self):\n",
    "        pass\n",
    "    \n",
    "    @abstractmethod\n",
    "    def get_filename(self):\n",
    "        pass\n",
    "    \n",
    "class TextReader(TextReaderAbstract):\n",
    "    \n",
    "    def get_path(self):\n",
    "        return self.path\n",
    "    \n",
    "    def get_filename(self):\n",
    "        return self.filename\n",
    "    "
   ]
  },
  {
   "cell_type": "code",
   "execution_count": 38,
   "id": "014bca5b",
   "metadata": {},
   "outputs": [],
   "source": [
    "myobj = TextReader(\"/user/download\", \"sample.txt\")"
   ]
  },
  {
   "cell_type": "code",
   "execution_count": 39,
   "id": "c2d91048",
   "metadata": {},
   "outputs": [
    {
     "data": {
      "text/plain": [
       "'/user/download'"
      ]
     },
     "execution_count": 39,
     "metadata": {},
     "output_type": "execute_result"
    }
   ],
   "source": [
    "myobj.get_path()"
   ]
  },
  {
   "cell_type": "code",
   "execution_count": 41,
   "id": "33a1f3d5",
   "metadata": {},
   "outputs": [],
   "source": [
    "class Bank(ABC):\n",
    "    \n",
    "    @abstractmethod\n",
    "    def get_interest(self):\n",
    "        pass"
   ]
  },
  {
   "cell_type": "code",
   "execution_count": 42,
   "id": "ab0d73ea",
   "metadata": {},
   "outputs": [],
   "source": [
    "class HDFC(Bank):\n",
    "    \n",
    "    def get_interest(self):\n",
    "        return 8.9"
   ]
  },
  {
   "cell_type": "code",
   "execution_count": 43,
   "id": "1fe4efb2",
   "metadata": {},
   "outputs": [],
   "source": [
    "myobj1 = HDFC()"
   ]
  },
  {
   "cell_type": "code",
   "execution_count": 44,
   "id": "98e7bf31",
   "metadata": {},
   "outputs": [
    {
     "data": {
      "text/plain": [
       "8.9"
      ]
     },
     "execution_count": 44,
     "metadata": {},
     "output_type": "execute_result"
    }
   ],
   "source": [
    "myobj1.get_interest()"
   ]
  },
  {
   "cell_type": "code",
   "execution_count": 48,
   "id": "015a6c2f",
   "metadata": {},
   "outputs": [
    {
     "name": "stdout",
     "output_type": "stream",
     "text": [
      "function A\n"
     ]
    }
   ],
   "source": [
    "from abc import ABC,abstractmethod\n",
    "\n",
    "class A(ABC):\n",
    "\n",
    "    @abstractmethod\n",
    "    def fun1(self):\n",
    "        print('function of class A called')\n",
    "\n",
    "    @abstractmethod\n",
    "    def fun2(self):\n",
    "        pass\n",
    "\n",
    "class B(A):\n",
    "    def fun1(self):\n",
    "        print('function 1 called')\n",
    "    def fun2(self):\n",
    "        print('function 2 called')\n",
    "o = B()\n",
    "o.fun1()\n"
   ]
  },
  {
   "cell_type": "code",
   "execution_count": null,
   "id": "bdefbc3b",
   "metadata": {},
   "outputs": [],
   "source": [
    "from abc import ABC,abstractmethod\n",
    "\n",
    "class A(ABC):\n",
    "\n",
    "    @abstractmethod\n",
    "    def fun1(self):\n",
    "        print('function A')\n",
    "\n",
    "    @abstractmethod\n",
    "    def fun2(self):\n",
    "        pass\n",
    "\n",
    "class B(A):\n",
    "\n",
    "    def fun1(self):\n",
    "#         will run the method of superclass\n",
    "        super().fun1()\n",
    "    def fun2(self):\n",
    "        print('function2')\n",
    "o = B()\n",
    "o.fun1()"
   ]
  },
  {
   "cell_type": "code",
   "execution_count": null,
   "id": "6d2870fb",
   "metadata": {},
   "outputs": [],
   "source": [
    "Exception Handling:"
   ]
  },
  {
   "cell_type": "code",
   "execution_count": null,
   "id": "0103f4d9",
   "metadata": {},
   "outputs": [],
   "source": [
    "# if:\n",
    "#     <our logic>\n",
    "# else if Exception:\n",
    "#     <Alternative Logic>\n",
    "    \n",
    "\n",
    "# try:\n",
    "#     a+b\n",
    "# except:\n",
    "#     int(a)+int(b)\n",
    "\n",
    "class Vehicle():\n",
    "    def __init__(self,make,model,fuel):\n",
    "        self.make=make\n",
    "        self.model=model\n",
    "        self.fuel=fuel\n",
    "    def get_value(self):\n",
    "        try:\n",
    "            age=2021-self.model\n",
    "            return 1000+(1/age)\n",
    "        except TypeError:\n",
    "            age=2021-int(self.model)\n",
    "            return 1000+(1/age)\n",
    "        except ZeroDivisionError:\n",
    "            age=2021-int(self.model)\n",
    "            return 1000*(1)\n",
    "\n",
    "\n",
    "myobj = Vehicle(\"Tesla\",2021,\"Electric\")\n",
    "\n",
    "myobj.get_value()"
   ]
  },
  {
   "cell_type": "code",
   "execution_count": null,
   "id": "35dd025b",
   "metadata": {},
   "outputs": [],
   "source": [
    "# multiple exception\n",
    "\n",
    "\n",
    "class Vehicle():\n",
    "    def __init__(self,make,model,fuel):\n",
    "        self.make=make\n",
    "        self.model=model\n",
    "        self.fuel=fuel\n",
    "    def get_value(self):\n",
    "        try:\n",
    "            age=2021-self.model\n",
    "            return 1000+(1/age)\n",
    "        except TypeError:\n",
    "            try:\n",
    "                age=2021-int(self.model)\n",
    "                return 1000+(1/age)\n",
    "            except ZeroDivisionError:\n",
    "                age=2021-int(self.model)\n",
    "                return 1000*(1)\n",
    "            except:\n",
    "                return \"You have entered Model Year in incorrect format\"\n",
    "            \n",
    "myobj=Vehicle(\"Tesla\",\"new\",\"Electric\")\n",
    "\n",
    "myobj.get_value()"
   ]
  },
  {
   "cell_type": "code",
   "execution_count": 49,
   "id": "88c17044",
   "metadata": {},
   "outputs": [
    {
     "name": "stdout",
     "output_type": "stream",
     "text": [
      "Name Error occured\n"
     ]
    }
   ],
   "source": [
    "try:\n",
    "    a = 10\n",
    "    b = 0\n",
    "    print(d)\n",
    "    c = a/b\n",
    "except NameError:\n",
    "    print('Name Error occured')\n",
    "except ZeroDivisionError:\n",
    "    print('Zero Division Error occured')"
   ]
  },
  {
   "cell_type": "code",
   "execution_count": null,
   "id": "8766e84f",
   "metadata": {},
   "outputs": [],
   "source": [
    "# custom Exceptions\n",
    "\n",
    "class NegativeCarValue(Exception):\n",
    "    def __init__(self,value,message=\"car value cannot be negative\"):\n",
    "        self.value=value\n",
    "        self.message=message\n",
    "        super().__init__(self.message)\n",
    "    \n",
    "    def __str__(self):\n",
    "        return f'{self.message}-->{self.value}'\n",
    "\n",
    "a=-1\n",
    "if a<0:\n",
    "    raise NegativeCarValue(a)\n",
    "\n",
    "class Vehicle():\n",
    "    def __init__(self,make,model,fuel):\n",
    "        self.make=make\n",
    "        self.model=model\n",
    "        self.fuel=fuel\n",
    "        self.current_year=2021\n",
    "    def get_value(self):\n",
    "        age=self.current_year-self.model\n",
    "        \n",
    "        if age < 0 :\n",
    "            raise NegativeCarValue(age)\n",
    "        else:\n",
    "            return 1000*(1/age)\n",
    "\n",
    "myobj=Vehicle(\"Tesla\",2023,\"electric\")\n",
    "\n",
    "myobj.get_value()"
   ]
  },
  {
   "cell_type": "code",
   "execution_count": 51,
   "id": "d369019e",
   "metadata": {},
   "outputs": [
    {
     "name": "stdout",
     "output_type": "stream",
     "text": [
      "Zero Division Error occured\n"
     ]
    }
   ],
   "source": [
    "class ZeroDenominatorError(ZeroDivisionError):\n",
    "    pass\n",
    "try:\n",
    "    a = 10\n",
    "    b = 0\n",
    "    if(b==0):\n",
    "        raise ZeroDenominatorError()\n",
    "    c = a/b\n",
    "except ZeroDivisionError:\n",
    "    print('Zero Division Error occured')\n",
    "except ZeroDenominatorError:\n",
    "    print('Zero Denominator Error occured')"
   ]
  },
  {
   "cell_type": "code",
   "execution_count": 56,
   "id": "d4ff5264",
   "metadata": {},
   "outputs": [
    {
     "name": "stdout",
     "output_type": "stream",
     "text": [
      "2\n",
      "4\n",
      "8\n"
     ]
    }
   ],
   "source": []
  }
 ],
 "metadata": {
  "kernelspec": {
   "display_name": "Python 3 (ipykernel)",
   "language": "python",
   "name": "python3"
  },
  "language_info": {
   "codemirror_mode": {
    "name": "ipython",
    "version": 3
   },
   "file_extension": ".py",
   "mimetype": "text/x-python",
   "name": "python",
   "nbconvert_exporter": "python",
   "pygments_lexer": "ipython3",
   "version": "3.9.13"
  }
 },
 "nbformat": 4,
 "nbformat_minor": 5
}
