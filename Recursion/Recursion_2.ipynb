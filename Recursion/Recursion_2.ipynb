{
 "cells": [
  {
   "cell_type": "markdown",
   "id": "d888f0a4",
   "metadata": {},
   "source": [
    "Recursion with Strings"
   ]
  },
  {
   "cell_type": "markdown",
   "id": "79685d95",
   "metadata": {},
   "source": [
    "Let's assume we have string on l length. And we want to replace all the occurence of 'a' with 'b'.\n",
    "\n",
    "base case: l = 0 do nothing just return the string\n",
    "assumption: we assume that for all l-1 string it is true.\n",
    "\n",
    "\n",
    "we are bascially gonna assume that except first element evey occurence of 'a' has already been replaced by the 'b'.\n",
    "\n"
   ]
  },
  {
   "cell_type": "code",
   "execution_count": null,
   "id": "4f5933c3",
   "metadata": {},
   "outputs": [],
   "source": [
    "def replaceChar(string, a, b):\n",
    "    if len(string) == 0:\n",
    "        return string\n",
    "    subString = replaceChar(string[1:], a,b)\n",
    "    if string[0] == a:\n",
    "        return b + subString\n",
    "    else:\n",
    "        return string[0] + subString\n",
    "    \n",
    "s = 'asfgrwegetwetcvdaaadaadsfaaga'\n",
    "\n",
    "T = replaceChar(s, 'a', 'G')\n",
    "print(T)\n",
    "    "
   ]
  },
  {
   "cell_type": "markdown",
   "id": "57259a58",
   "metadata": {},
   "source": [
    "Given a string, Compute recursively a new string where all 'x' chars have been removed.\n",
    "\n",
    "input: String S\n",
    "output: Modified String\n",
    "\n",
    "So to solve this problem:\n",
    "1: len == 0 or len == 1 : return the string\n",
    "2: Now run the function on the string[1:] part\n",
    "3: if a[0] is equal to 'x' then just return the output of function(string[1:]) : return the a[0] + function(string[1:])\n"
   ]
  },
  {
   "cell_type": "code",
   "execution_count": null,
   "id": "a830c84a",
   "metadata": {},
   "outputs": [],
   "source": [
    "def removeX(string):\n",
    "    l = len(string)\n",
    "    if l == 0:\n",
    "        return string\n",
    "    subString = removeX(string[1:])\n",
    "    if string[0] == 'x':\n",
    "        return subString\n",
    "    else:\n",
    "        return string[0] + subString\n",
    "    \n",
    "x = input()\n",
    "print(removeX(x))\n",
    "        "
   ]
  }
 ],
 "metadata": {
  "kernelspec": {
   "display_name": "Python 3 (ipykernel)",
   "language": "python",
   "name": "python3"
  },
  "language_info": {
   "codemirror_mode": {
    "name": "ipython",
    "version": 3
   },
   "file_extension": ".py",
   "mimetype": "text/x-python",
   "name": "python",
   "nbconvert_exporter": "python",
   "pygments_lexer": "ipython3",
   "version": "3.9.12"
  }
 },
 "nbformat": 4,
 "nbformat_minor": 5
}
