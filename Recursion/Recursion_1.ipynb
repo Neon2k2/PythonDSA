{
 "cells": [
  {
   "cell_type": "markdown",
   "id": "0abb9211",
   "metadata": {},
   "source": [
    "Introduction to Recursion:\n",
    "\n",
    "Recursion is programming technique in which function calls itself to loop over the given data until it reaches a result or a trival condition.\n",
    "\n",
    "For example in Factorial problems. We need to find the factorial of n! by multiplying the number n from (n-1)!. \n"
   ]
  },
  {
   "cell_type": "code",
   "execution_count": null,
   "id": "f786c32c",
   "metadata": {},
   "outputs": [],
   "source": [
    "n = int(input())\n",
    "def fac(n):\n",
    "    if n<1:\n",
    "        return 1\n",
    "    return n * fac(n - 1)\n",
    "\n",
    "# setting the recurrsion limit\n",
    "import sys\n",
    "sys.setrecursionlimit(3000)\n",
    "\n",
    "fac(n)"
   ]
  },
  {
   "cell_type": "markdown",
   "id": "766d7579",
   "metadata": {},
   "source": [
    "Recursion is based on the mathematical concept called PMI(The Principle of Mathematical Induction).\n",
    "\n",
    "for example lets take a problem where we need to prove that function f is true for all natural numbers.\n",
    "To prove that according to PMI we first need to prove-\n",
    "1) Is f(0) and f(1) true? -- known as Base case\n",
    "2) Then assume f(k) is true. -- known as Induction Hyposthesis\n",
    "3) Then prove f(k+1) is true. -- Known as induction step\n",
    "\n"
   ]
  },
  {
   "cell_type": "code",
   "execution_count": null,
   "id": "b84f9343",
   "metadata": {},
   "outputs": [],
   "source": [
    "# sum of n numbers:\n",
    "\n",
    "def sum_n(n):\n",
    "    if n == 0:\n",
    "        return 0\n",
    "    sumOutput = sum_n(n-1)\n",
    "    output = sumOutput + n\n",
    "    return output\n",
    "\n",
    "n = int(input())\n",
    "\n",
    "print(sum_n(n))"
   ]
  },
  {
   "cell_type": "code",
   "execution_count": null,
   "id": "a96b9253",
   "metadata": {},
   "outputs": [],
   "source": [
    "# finding x^n:\n",
    "\n",
    "a, b = input().split()\n",
    "a = int(a)\n",
    "b = int(b)\n",
    "\n",
    "\n",
    "def power_(x, n):\n",
    "    if n == 0:\n",
    "        return 1\n",
    "    elif n == 1:\n",
    "        return x\n",
    "    return power_(x, 1)*power_(x, n-1)\n",
    "\n",
    "\n",
    "print(power_(a, b))"
   ]
  },
  {
   "cell_type": "code",
   "execution_count": null,
   "id": "d04f5c19",
   "metadata": {},
   "outputs": [],
   "source": [
    "def print_one_to_n(n):\n",
    "    if n == 0:\n",
    "        return\n",
    "    print_one_to_n(n-1)\n",
    "    print(n)\n",
    "    return\n",
    "print_one_to_n(3)"
   ]
  },
  {
   "cell_type": "code",
   "execution_count": null,
   "id": "4ec06d15",
   "metadata": {},
   "outputs": [],
   "source": [
    "def print_n_to_one(n):\n",
    "    if n == 0:\n",
    "        return\n",
    "    print(n)\n",
    "    print_n_to_one(n-1)\n",
    "\n",
    "print_n_to_one(4)"
   ]
  },
  {
   "cell_type": "code",
   "execution_count": null,
   "id": "8f66aa1f",
   "metadata": {},
   "outputs": [],
   "source": [
    "# fibonacci series\n",
    "\n",
    "def fib(n):\n",
    "    if n == 1 or n == 2:\n",
    "        return 1\n",
    "    fib_n_1 = fib(n-1)\n",
    "    fib_n_2 = fib(n-2)\n",
    "    output = fib_n_1 + fib_n_2\n",
    "    return output\n",
    "\n",
    "fib(4)"
   ]
  },
  {
   "cell_type": "code",
   "execution_count": null,
   "id": "a7f376f7",
   "metadata": {},
   "outputs": [],
   "source": [
    "# check if list is sorted or Not?\n",
    "\n",
    "# Base case: if len is one or 0 list is sorted return true\n",
    "# Induction hypothesis: list of size l-1 the function works\n",
    "# Induction step: if [0] > [1] return false else check for smaller list starting from [1..................k]\n",
    "\n",
    "\n",
    "def isSorted(a):\n",
    "    l = len(a)\n",
    "    if l == 0 or l == 1:\n",
    "        return True\n",
    "    if a[0] > a[1]:\n",
    "        return False\n",
    "    return isSorted(a[1:])\\\n",
    "\n",
    "# More optimized way\n",
    "\n",
    "def isSortedBetter(a, si):\n",
    "    l = len(a)\n",
    "    if si == l - 1 or si == l:\n",
    "        return True\n",
    "    if a[si] > a[si + 1]:\n",
    "        return False\n",
    "    isSmallerPartSorted = isSortedBetter(a, si + 1)\n",
    "    return isSmallerPartSorted\n",
    "\n",
    "a = [1, 9,3,4,5,6]\n",
    "isSortedBetter(a, 0)"
   ]
  },
  {
   "cell_type": "markdown",
   "id": "cbdc769d",
   "metadata": {},
   "source": [
    "Finding the first index of x\n",
    "\n",
    "This function is a recursive implementation of finding the first occurrence of x in the input array arr.\n",
    "\n",
    "The function starts by checking if the length of arr is equal to 0. If it is, the function returns -1, indicating that x was not found in the array.\n",
    "\n",
    "If the length of arr is not 0, the function checks if the first element of arr, arr[0], is equal to x. If it is, the function returns 0, indicating that x was found at the first position of the array.\n",
    "\n",
    "Otherwise, the function calls itself on the slice of the input array arr starting from the second element (arr[1:]), and stores the result in the variable index. If index is equal to -1, the function also returns -1, indicating that x was not found in the rest of the array.\n",
    "\n",
    "Finally, if x was found in the rest of the array, the function returns 1 + index, which represents the index of x in the original input array arr, taking into account that the function has removed the first element of the array.\n",
    "\n",
    "In this way, the function recursively searches for x in arr, and returns its index if found, or -1 if not found."
   ]
  },
  {
   "cell_type": "code",
   "execution_count": null,
   "id": "339f1d17",
   "metadata": {},
   "outputs": [],
   "source": [
    "def firstIndex(arr, x):\n",
    "    # Please add your code here\n",
    "    if len(arr) == 0:\n",
    "        return -1\n",
    "    if arr[0] == x:\n",
    "        return 0\n",
    "    index = firstIndex(arr[1:], x)\n",
    "    if index == -1:\n",
    "        return -1\n",
    "    return 1 + index\n",
    "\n",
    "\n",
    "\n",
    "firstIndex(a, 5)\n"
   ]
  },
  {
   "cell_type": "code",
   "execution_count": null,
   "id": "ba46932a",
   "metadata": {},
   "outputs": [],
   "source": [
    "# better version\n",
    "\n",
    "def firstIndexB(a, x, si):\n",
    "    l = len(a)\n",
    "    if si == l:\n",
    "        return -1\n",
    "    if a[si] == x:\n",
    "        return si\n",
    "    return firstIndexB(a, x, si + 1)\n",
    "\n",
    "a = [1, 9,3,4,5,6]\n",
    "firstIndexB(a, 5, 0)\n",
    "    "
   ]
  },
  {
   "cell_type": "code",
   "execution_count": null,
   "id": "72746429",
   "metadata": {},
   "outputs": [],
   "source": [
    "# finding the last index of x\n",
    "\n",
    "# first check whether the list is empty or not if yes then return -1\n",
    "# then run the function on the subList\n",
    "# if the return index is -1 then check whether first element is x or not\n",
    "# if output is not -1 return output + 1 else if -1 then check a[0]\n",
    "# isnt x then return -1 else return 0 \n",
    "\n",
    "\n",
    "N = int(input())\n",
    "arr = list(int(i) for i in input().strip().split(' '))\n",
    "x = int(input())\n",
    "\n",
    "\n",
    "def lastIndex(a, num):\n",
    "    l = len(a)\n",
    "    if l == 0:\n",
    "        return -1\n",
    "    smallList = a[1:]\n",
    "    smallListOutput = lastIndex(smallList, num)\n",
    "    if smallListOutput != -1:\n",
    "        return smallListOutput + 1\n",
    "    else:\n",
    "        if a[0] == num:\n",
    "            return 0\n",
    "        else:\n",
    "            return -1\n",
    "\n",
    "\n",
    "l = lastIndex(arr, x)\n",
    "print(l)"
   ]
  }
 ],
 "metadata": {
  "kernelspec": {
   "display_name": "Python 3 (ipykernel)",
   "language": "python",
   "name": "python3"
  },
  "language_info": {
   "codemirror_mode": {
    "name": "ipython",
    "version": 3
   },
   "file_extension": ".py",
   "mimetype": "text/x-python",
   "name": "python",
   "nbconvert_exporter": "python",
   "pygments_lexer": "ipython3",
   "version": "3.9.12"
  }
 },
 "nbformat": 4,
 "nbformat_minor": 5
}
