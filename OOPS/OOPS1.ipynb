{
 "cells": [
  {
   "cell_type": "markdown",
   "id": "309176ba",
   "metadata": {},
   "source": [
    "Object Oriented Programming:\n",
    "\n",
    "Class: It is basically a blueprint of an object, which consists of methods and attributes. for Example: CAR can be a class as it has attributes like how many doors it has, what color it is, does it have sunroof or not, is it sedan or hatchback. It has methods, or basically behavious, like it moves front and reverse right and left, it's windows opening and closing etc\n",
    "\n",
    "Object: It is an instance of a class, as class is just a blueprint stating how an object will be and what will be it behaviours. ex: Ford Gt, it's a specific car with it's own attribute and behaviour but everything which makes it's existence is the that, it is a type of Car.\n",
    "\n",
    "As we know python is a dynamically typed, High level, intrepeted, object oriented language. It makes us easier and efficient to approach a complex problem using object oriented approach."
   ]
  },
  {
   "cell_type": "code",
   "execution_count": null,
   "id": "7614d3b4",
   "metadata": {},
   "outputs": [],
   "source": [
    "class ExpenseTracker:\n",
    "    \"\"\"this is a class to do expense tracking\"\"\"\n",
    "    \n",
    "    def __init__(self, date, description, transaction_type, amount):\n",
    "        self.date = date\n",
    "        self.description = description\n",
    "        self.transaction_type = transaction_type\n",
    "        self.amount = amount"
   ]
  },
  {
   "cell_type": "code",
   "execution_count": null,
   "id": "99e2c71c",
   "metadata": {},
   "outputs": [],
   "source": [
    "obj1 = ExpenseTracker('23-02-2023', 'petrol', 'debit', '500')\n",
    "obj2 = ExpenseTracker('23-02-2023', 'food', 'debit', '500')\n",
    "obj1.amount"
   ]
  },
  {
   "cell_type": "code",
   "execution_count": null,
   "id": "c501848c",
   "metadata": {},
   "outputs": [],
   "source": [
    "class ExpenseTracker:\n",
    "    \"\"\"this is a docstring which defines the purpose of class, just like comments\"\"\"\n",
    "    #class attribute\n",
    "    expense_tracker_version = 0.1\n",
    "    def __init__(self, tracker_category, opening_balance, budget):\n",
    "        self.tracker_category = tracker_category\n",
    "        self.opening_balance = opening_balance\n",
    "        self.budget = budget"
   ]
  },
  {
   "cell_type": "code",
   "execution_count": null,
   "id": "fd2a2a01",
   "metadata": {},
   "outputs": [],
   "source": [
    "home_tracker = ExpenseTracker('home', 3000, 10000)"
   ]
  },
  {
   "cell_type": "code",
   "execution_count": null,
   "id": "8afef70f",
   "metadata": {},
   "outputs": [],
   "source": [
    "home_tracker.tracker_category"
   ]
  },
  {
   "cell_type": "code",
   "execution_count": null,
   "id": "b5bdb68d",
   "metadata": {},
   "outputs": [],
   "source": [
    "shopping_tracker = ExpenseTracker(\"shopping\", 1000, 5000)"
   ]
  },
  {
   "cell_type": "code",
   "execution_count": null,
   "id": "f57b24f7",
   "metadata": {},
   "outputs": [],
   "source": [
    "shopping_tracker.opening_balance"
   ]
  },
  {
   "cell_type": "markdown",
   "id": "9c773283",
   "metadata": {},
   "source": [
    "Note: self basically helps to maintain attributes to its particular object instance of the class.\n"
   ]
  },
  {
   "cell_type": "code",
   "execution_count": null,
   "id": "2f3c79c5",
   "metadata": {},
   "outputs": [],
   "source": [
    "# inbuilt function __dict__\n",
    "# It shows all the attriubtes of the object\n",
    "\n",
    "home_tracker.__dict__"
   ]
  },
  {
   "cell_type": "code",
   "execution_count": null,
   "id": "b67de902",
   "metadata": {},
   "outputs": [],
   "source": [
    "# getattr() gives the value of the attribute given in the function\n",
    "\n",
    "getattr(shopping_tracker, 'opening_balance')"
   ]
  },
  {
   "cell_type": "code",
   "execution_count": null,
   "id": "ef70d7a5",
   "metadata": {},
   "outputs": [],
   "source": [
    "# hasattr() gives a boolean value \n",
    "# if the fed attribute is present or not in that object instance\n",
    "\n",
    "# it's a common practice to check first whether the requesting attribute\n",
    "# is present of not hence, always run hasattr() before getattr() or delattr()\n",
    "hasattr(shopping_tracker, 'budget')"
   ]
  },
  {
   "cell_type": "code",
   "execution_count": null,
   "id": "ffaf4c7c",
   "metadata": {},
   "outputs": [],
   "source": [
    "# delattr()\n",
    "\n",
    "delattr(shopping_tracker,'opening_balance')\n",
    "shopping_tracker.__dict__"
   ]
  },
  {
   "cell_type": "markdown",
   "id": "f46da5e6",
   "metadata": {},
   "source": [
    "static method:\n",
    "\n",
    "A static method does not receive an implicit first argument. A static method is also a method that is bound to the class and not the object of the class. This method can’t access or modify the class state. It is present in a class because it makes sense for the method to be present in class.\n",
    "\n"
   ]
  },
  {
   "cell_type": "code",
   "execution_count": null,
   "id": "c3ca677a",
   "metadata": {},
   "outputs": [],
   "source": [
    "class C(object):\n",
    "    @staticmethod\n",
    "    def fun(arg1, arg2, ...):\n",
    "        ...\n",
    "returns: a static method for function fun."
   ]
  },
  {
   "cell_type": "code",
   "execution_count": null,
   "id": "4dc79606",
   "metadata": {},
   "outputs": [],
   "source": [
    "class ExpenseTracker:\n",
    "    \"\"\"this is a docstring which defines the purpose of class, just like comments\"\"\"\n",
    "    #class attribute\n",
    "    expense_tracker_version = 0.1\n",
    "    def __init__(self, tracker_category, orignal_balance, budget):\n",
    "        #instance/object attributes      \n",
    "        self.tracker_category = tracker_category\n",
    "        self.original_balance = orignal_balance\n",
    "        self.tracker_budget = budget\n",
    "        \n",
    "    #instance method\n",
    "    def get_original_balance(self):\n",
    "        return self.original_balance\n",
    "    \n",
    "#     instance method\n",
    "    def check_balance(self, limit=1000):\n",
    "        if self.tracker_budget >= limit:\n",
    "            return True\n",
    "        else:\n",
    "            return \"your opening balance is less than limit\"\n",
    "        \n",
    "    @staticmethod\n",
    "    def convert_amount(amount):\n",
    "        return float(amount)"
   ]
  },
  {
   "cell_type": "code",
   "execution_count": null,
   "id": "b554921c",
   "metadata": {},
   "outputs": [],
   "source": [
    "obj = ExpenseTracker('kitchen', 0, 10000)"
   ]
  },
  {
   "cell_type": "code",
   "execution_count": null,
   "id": "0d5535af",
   "metadata": {},
   "outputs": [],
   "source": [
    "obj.convert_amount(1000)"
   ]
  },
  {
   "cell_type": "markdown",
   "id": "d9956759",
   "metadata": {},
   "source": [
    "Class Method: \n",
    "\n",
    "A class method is a method that is bound to a class rather than its object. It doesn't require creation of a class instance, much like staticmethod. The difference between a static method and a class method is: Static method knows nothing about the class and just deals with the parameters.\n",
    "\n",
    "\n"
   ]
  },
  {
   "cell_type": "code",
   "execution_count": 4,
   "id": "cffb9f5b",
   "metadata": {},
   "outputs": [],
   "source": [
    "class ExpenseTracker:\n",
    "    \"\"\"this is a docstring which defines the purpose of class, just like comments\"\"\"\n",
    "    #class attribute\n",
    "    expense_tracker_version = 0.1\n",
    "    def __init__(self, tracker_category, orignal_balance, budget):\n",
    "        #instance/object attributes      \n",
    "        self.tracker_category = tracker_category\n",
    "        self.original_balance = orignal_balance\n",
    "        self.tracker_budget = budget\n",
    "        \n",
    "    #instance method\n",
    "    def get_original_balance(self):\n",
    "        return self.original_balance\n",
    "    \n",
    "#     instance method\n",
    "    def check_balance(self, limit=1000):\n",
    "        if self.tracker_budget >= limit:\n",
    "            return True\n",
    "        else:\n",
    "            return \"your opening balance is less than limit\"\n",
    "        \n",
    "    @staticmethod\n",
    "    def convert_amount(amount):\n",
    "        return float(amount)\n",
    "    \n",
    "#   #Factory Method\n",
    "    @classmethod\n",
    "    def get_attributes_fromstring(cls, diary_entry: str):\n",
    "        tracking_category, original_balance, tracker_budget = diary_entry.split(\" \")\n",
    "        \n",
    "        return ExpenseTracker(tracking_category.capitalize(),\n",
    "                             cls.convert_amount(original_balance),\n",
    "                             cls.convert_amount(tracker_budget)\n",
    "                             )\n",
    "    \n",
    "    "
   ]
  },
  {
   "cell_type": "code",
   "execution_count": 5,
   "id": "ad65bd84",
   "metadata": {},
   "outputs": [],
   "source": [
    "ClassObject = ExpenseTracker.get_attributes_fromstring(\"shopping 100 5000\")"
   ]
  },
  {
   "cell_type": "code",
   "execution_count": 6,
   "id": "3b931877",
   "metadata": {},
   "outputs": [
    {
     "data": {
      "text/plain": [
       "{'tracker_category': 'Shopping',\n",
       " 'original_balance': 100.0,\n",
       " 'tracker_budget': 5000.0}"
      ]
     },
     "execution_count": 6,
     "metadata": {},
     "output_type": "execute_result"
    }
   ],
   "source": [
    "ClassObject.__dict__\n",
    "\n",
    "# __dict__ basically gives all the attributes of the object as it is a dictonary"
   ]
  },
  {
   "cell_type": "code",
   "execution_count": 9,
   "id": "e3c064c4",
   "metadata": {},
   "outputs": [],
   "source": [
    "class ExpenseTracker:\n",
    "    \"\"\"this is a docstring which defines the purpose of class, just like comments\"\"\"\n",
    "    #class attribute\n",
    "    expense_tracker_version = 0.1\n",
    "    def __init__(self, tracker_category, orignal_balance, budget):\n",
    "        #instance/object attributes\n",
    "        \n",
    "        #public attribute\n",
    "        self.tracker_category = tracker_category\n",
    "        \n",
    "#         private attribute\n",
    "        self.__original_balance = orignal_balance\n",
    "        self.__tracker_budget = budget\n",
    "        \n",
    "    #instance method\n",
    "#     private method -- use double underscore to declare that the attribute is\n",
    "    # is private\n",
    "    def __get_original_balance(self):\n",
    "        return self.original_balance\n",
    "    \n",
    "    #instance method\n",
    "    def check_balance(self, limit=1000):\n",
    "        if self.tracker_budget >= limit:\n",
    "            return True\n",
    "        else:\n",
    "            return \"your opening balance is less than limit\"\n",
    "        \n",
    "    @staticmethod\n",
    "    def convert_amount(amount):\n",
    "        return float(amount)\n",
    "    \n",
    "   #Factory Method\n",
    "    @classmethod\n",
    "    def get_attributes_fromstring(cls, diary_entry: str):\n",
    "        tracker_category, original_balance, tracker_budget = diary_entry.split(\" \")\n",
    "        \n",
    "        return ExpenseTracker(tracker_category.capitalize(),\n",
    "                             cls.convert_amount(original_balance),\n",
    "                             cls.convert_amount(tracker_budget)\n",
    "                             )\n",
    "    \n",
    "    "
   ]
  },
  {
   "cell_type": "code",
   "execution_count": 12,
   "id": "2472fb0a",
   "metadata": {},
   "outputs": [],
   "source": [
    "home = ExpenseTracker(\"Home\", 0, 1000)"
   ]
  },
  {
   "cell_type": "code",
   "execution_count": 15,
   "id": "1705d8c7",
   "metadata": {},
   "outputs": [
    {
     "data": {
      "text/plain": [
       "'Home'"
      ]
     },
     "execution_count": 15,
     "metadata": {},
     "output_type": "execute_result"
    }
   ],
   "source": [
    "home.tracker_category"
   ]
  },
  {
   "cell_type": "code",
   "execution_count": 17,
   "id": "5b002808",
   "metadata": {},
   "outputs": [
    {
     "ename": "AttributeError",
     "evalue": "'ExpenseTracker' object has no attribute '__get_original_balance'",
     "output_type": "error",
     "traceback": [
      "\u001b[1;31m---------------------------------------------------------------------------\u001b[0m",
      "\u001b[1;31mAttributeError\u001b[0m                            Traceback (most recent call last)",
      "Input \u001b[1;32mIn [17]\u001b[0m, in \u001b[0;36m<cell line: 1>\u001b[1;34m()\u001b[0m\n\u001b[1;32m----> 1\u001b[0m \u001b[43mhome\u001b[49m\u001b[38;5;241;43m.\u001b[39;49m\u001b[43m__get_original_balance\u001b[49m()\n",
      "\u001b[1;31mAttributeError\u001b[0m: 'ExpenseTracker' object has no attribute '__get_original_balance'"
     ]
    }
   ],
   "source": [
    "home.__get_original_balance()"
   ]
  },
  {
   "cell_type": "markdown",
   "id": "dc1f6182",
   "metadata": {},
   "source": [
    " __name__ == \"__main__\"\n",
    "\n",
    "Whenever a python executer gets a file it executes it line by line, it doesnt matter if it is passed as file or imported, it will just execute.\n",
    "\n",
    "And in order to prevent the execution of the imported code, we have to use a guard i.e"
   ]
  },
  {
   "cell_type": "code",
   "execution_count": null,
   "id": "46304144",
   "metadata": {},
   "outputs": [],
   "source": [
    "if __name__ == \"__main__\""
   ]
  },
  {
   "cell_type": "markdown",
   "id": "b9910d54",
   "metadata": {},
   "source": [
    "because python interpreter assgins a file name to the variable __name__ except for the file that was initially interpreted by the python interpreter."
   ]
  }
 ],
 "metadata": {
  "kernelspec": {
   "display_name": "Python 3 (ipykernel)",
   "language": "python",
   "name": "python3"
  },
  "language_info": {
   "codemirror_mode": {
    "name": "ipython",
    "version": 3
   },
   "file_extension": ".py",
   "mimetype": "text/x-python",
   "name": "python",
   "nbconvert_exporter": "python",
   "pygments_lexer": "ipython3",
   "version": "3.9.12"
  }
 },
 "nbformat": 4,
 "nbformat_minor": 5
}
